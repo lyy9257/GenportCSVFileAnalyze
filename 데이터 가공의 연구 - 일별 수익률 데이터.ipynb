{
 "cells": [
  {
   "cell_type": "code",
   "execution_count": 3,
   "metadata": {},
   "outputs": [],
   "source": [
    "import numpy as np\n",
    "import pandas as pd\n",
    "import matplotlib as mpl"
   ]
  },
  {
   "cell_type": "code",
   "execution_count": 4,
   "metadata": {},
   "outputs": [
    {
     "name": "stdout",
     "output_type": "stream",
     "text": [
      "           날짜  매수 종목수  매도 종목수  남은 종목수  일일수익률   누적수익률         총자산       남은 현금\n",
      "0    20170102       8       4       4   1.36    1.36  10136268.0   6601856.0\n",
      "1    20170103       0       4       1  -0.13    1.23  10122807.0   9460317.0\n",
      "2    20170104       3       4       0   0.98    2.22  10221841.0  10221841.0\n",
      "3    20170105       3       2       1   0.65    2.88  10288277.0   9375665.0\n",
      "4    20170106       7       2       6   0.24    3.13  10312978.0   4858398.0\n",
      "..        ...     ...     ...     ...    ...     ...         ...         ...\n",
      "744  20200117       4       7       1   0.99  297.01  39701020.0  36208520.0\n",
      "745  20200120       6       5       3   1.23  301.90  40189715.0  30769915.0\n",
      "746  20200121       6       7       2  -0.62  299.39  39938940.0  32946700.0\n",
      "747  20200122       7       5       4   0.60  301.77  40177362.0  25912562.0\n",
      "748  20200123       5       8       1  -0.68  299.03  39902500.0  36492000.0\n",
      "\n",
      "[749 rows x 8 columns]\n"
     ]
    }
   ],
   "source": [
    "## 수익률 파일 호출\n",
    "\n",
    "monthly_profit = pd.read_csv('Test_CSV/937501/trade_history_daily_937501.csv')\n",
    "print(monthly_profit)"
   ]
  },
  {
   "cell_type": "code",
   "execution_count": 18,
   "metadata": {},
   "outputs": [
    {
     "name": "stdout",
     "output_type": "stream",
     "text": [
      "ㅡㅡㅡㅡㅡ\n",
      "0.189 0.887 7.12\n",
      "ㅡㅡㅡㅡㅡ\n",
      "4.393 4.495\n",
      "ㅡㅡㅡㅡㅡ\n"
     ]
    }
   ],
   "source": [
    "## 일별 수익률 평균 및 표준편차, 최대 - 최소 수익률 편차 구하기\n",
    "avg_day_profit = round(monthly_profit['일일수익률'].mean(), 3)\n",
    "std_day_profit = round(monthly_profit['일일수익률'].std(), 3)\n",
    "max_min_gap_day_profit = monthly_profit['일일수익률'].max() - monthly_profit['일일수익률'].min()\n",
    "\n",
    "print('ㅡㅡㅡㅡㅡ')\n",
    "print(avg_day_profit, std_day_profit, max_min_gap_day_profit)\n",
    "\n",
    "## 일별 매수, 매도 종목수 평균 구하기\n",
    "avg_day_buy = round(monthly_profit['매수 종목수'].mean(), 3)\n",
    "avg_day_sell = round(monthly_profit['매도 종목수'].mean(), 3)\n",
    "\n",
    "print('ㅡㅡㅡㅡㅡ')\n",
    "print(avg_day_buy, avg_day_sell)\n",
    "print('ㅡㅡㅡㅡㅡ')"
   ]
  },
  {
   "cell_type": "code",
   "execution_count": 20,
   "metadata": {},
   "outputs": [
    {
     "name": "stdout",
     "output_type": "stream",
     "text": [
      "           날짜  매수수량 - 수익률곱  매도수량 - 수익률곱\n",
      "0    20170102        10.88         5.44\n",
      "1    20170103        -0.00        -0.52\n",
      "2    20170104         2.94         3.92\n",
      "3    20170105         1.95         1.30\n",
      "4    20170106         1.68         0.48\n",
      "..        ...          ...          ...\n",
      "744  20200117         3.96         6.93\n",
      "745  20200120         7.38         6.15\n",
      "746  20200121        -3.72        -4.34\n",
      "747  20200122         4.20         3.00\n",
      "748  20200123        -3.40        -5.44\n",
      "\n",
      "[749 rows x 3 columns]\n"
     ]
    }
   ],
   "source": [
    "# 가설 : 일별 트레이딩 종목수와 일별수익률간에는 관계가 있을 것이다.\n",
    "## 데이터프레임 곱을 통해 확인해본다.\n",
    "\n",
    "monthly_profit['매수수량 - 수익률곱'] = monthly_profit['일일수익률'].mul(monthly_profit['매수 종목수'])\n",
    "monthly_profit['매도수량 - 수익률곱'] = monthly_profit['일일수익률'].mul(monthly_profit['매도 종목수'])\n",
    "\n",
    "print(monthly_profit[['날짜','매수수량 - 수익률곱','매도수량 - 수익률곱']])"
   ]
  },
  {
   "cell_type": "code",
   "execution_count": 13,
   "metadata": {},
   "outputs": [
    {
     "data": {
      "image/png": "[encoded data removed]",
      "text/plain": [
       "<Figure size 432x288 with 1 Axes>"
      ]
     },
     "metadata": {
      "needs_background": "light"
     },
     "output_type": "display_data"
    },
    {
     "data": {
      "text/plain": [
       "<Figure size 1440x288 with 0 Axes>"
      ]
     },
     "metadata": {},
     "output_type": "display_data"
    }
   ],
   "source": [
    "import matplotlib.pyplot as plt\n",
    "import numpy as np\n",
    "\n",
    "labels = monthly_profit['날짜']\n",
    "means_bmp = monthly_profit['매수수량 - 수익률곱']\n",
    "means_smp = monthly_profit['매도수량 - 수익률곱']\n",
    "\n",
    "x = np.arange(len(labels))  # the label locations\n",
    "width = 1  # the width of the bars\n",
    "\n",
    "fig, ax = plt.subplots()\n",
    "rects1 = ax.bar(x, means_bmp, means_smp, width, label='profit_month')\n",
    "\n",
    "# Add some text for labels, title and custom x-axis tick labels, etc.\n",
    "ax.set_ylabel('Monthly Profit')\n",
    "ax.set_title('profit')\n",
    "ax.set_xticks(x)\n",
    "ax.set_xticklabels(labels)\n",
    "ax.legend()\n",
    "\n",
    "for label in ax.xaxis.get_ticklabels() :\n",
    "    label.set_rotation(45)\n",
    "\n",
    "'''\n",
    "def autolabel(rects):\n",
    "    \"\"\"Attach a text label above each bar in *rects*, displaying its height.\"\"\"\n",
    "    for rect in rects:\n",
    "        height = rect.get_height()\n",
    "        ax.annotate('{}'.format(height),\n",
    "                    xy=(rect.get_x() + rect.get_width() / 2, height),\n",
    "                    xytext=(0, 3),  # 3 points vertical offset\n",
    "                    textcoords=\"offset points\",\n",
    "                    ha='center', va='bottom')\n",
    "\n",
    "autolabel(rects1)\n",
    "'''\n",
    "\n",
    "## fig.tight_layout()\n",
    "plt.figure(figsize=(20, 4))\n",
    "plt.show()\n",
    "\n",
    "## 왜 그래프가 안튀어나오는겨...(2020. 01. 26)"
   ]
  },
  {
   "cell_type": "code",
   "execution_count": 17,
   "metadata": {},
   "outputs": [
    {
     "name": "stdout",
     "output_type": "stream",
     "text": [
      "ㅡㅡㅡㅡㅡ\n",
      "Average 매수수량 - 수익률 곱 :  1.085\n",
      "Average 매도수량 - 수익률 곱 :  1.056\n",
      "ㅡㅡㅡㅡㅡ\n"
     ]
    }
   ],
   "source": [
    "## 일별 매수, 매도 종목수 평균 구하기\n",
    "avg_day_bmp = round(monthly_profit['매수수량 - 수익률곱'].mean(), 3)\n",
    "avg_day_smp = round(monthly_profit['매도수량 - 수익률곱'].mean(), 3)\n",
    "\n",
    "print('ㅡㅡㅡㅡㅡ')\n",
    "print('Average 매수수량 - 수익률 곱 : ', avg_day_bmp)\n",
    "print('Average 매도수량 - 수익률 곱 : ', avg_day_smp)\n",
    "print('ㅡㅡㅡㅡㅡ')"
   ]
  },
  {
   "cell_type": "code",
   "execution_count": null,
   "metadata": {},
   "outputs": [],
   "source": []
  }
 ],
 "metadata": {
  "kernelspec": {
   "display_name": "Python 3",
   "language": "python",
   "name": "python3"
  },
  "language_info": {
   "codemirror_mode": {
    "name": "ipython",
    "version": 3
   },
   "file_extension": ".py",
   "mimetype": "text/x-python",
   "name": "python",
   "nbconvert_exporter": "python",
   "pygments_lexer": "ipython3",
   "version": "3.7.3"
  }
 },
 "nbformat": 4,
 "nbformat_minor": 2
}
