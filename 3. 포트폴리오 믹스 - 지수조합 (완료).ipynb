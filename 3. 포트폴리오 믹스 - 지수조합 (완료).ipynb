{
 "cells": [
  {
   "cell_type": "code",
   "execution_count": 14,
   "metadata": {},
   "outputs": [],
   "source": [
    "# 코스피 이평을 이용하여 포트폴리오 믹싱\n",
    "# 필요한 패키지 호출\n",
    "\n",
    "import numpy as np\n",
    "import pandas as pd\n",
    "import pandas_datareader as wb\n",
    "\n",
    "import datetime"
   ]
  },
  {
   "cell_type": "code",
   "execution_count": 15,
   "metadata": {},
   "outputs": [],
   "source": [
    "# 포트폴리오 불러오기\n",
    "\n",
    "portfolio_1 = pd.read_csv('Test_CSV/913695/trade_history_daily_913695.csv')\n",
    "portfolio_2 = pd.read_csv('Test_CSV/966955/trade_history_daily_966955.csv')"
   ]
  },
  {
   "cell_type": "code",
   "execution_count": 16,
   "metadata": {},
   "outputs": [
    {
     "name": "stdout",
     "output_type": "stream",
     "text": [
      "            날짜  요일  수익률_913695  수익률_966955\n",
      "0   2017-01-02   0        1.85        1.67\n",
      "1   2017-01-03   1        0.22        0.94\n",
      "2   2017-01-04   2        0.29       -0.56\n",
      "3   2017-01-05   3        1.95        0.86\n",
      "4   2017-01-06   4        0.08        0.39\n",
      "..         ...  ..         ...         ...\n",
      "765 2020-02-19   2       -1.64        0.74\n",
      "766 2020-02-20   3       -0.01       -1.04\n",
      "767 2020-02-21   4       -1.70        0.57\n",
      "768 2020-02-24   0       -0.89       -0.32\n",
      "769 2020-02-25   1       -0.13        0.11\n",
      "\n",
      "[770 rows x 4 columns]\n"
     ]
    }
   ],
   "source": [
    "# 요일 산출후 요일별 수익률 모아서 확인하기\n",
    "\n",
    "merge_df = pd.DataFrame()\n",
    "\n",
    "merge_df['날짜'] = portfolio_1['날짜'].apply(lambda x: pd.to_datetime(str(x), format='%Y%m%d'))\n",
    "merge_df['요일'] = merge_df['날짜'].apply(lambda x: pd.Timestamp(x).dayofweek)\n",
    "merge_df['수익률_913695'] = portfolio_1['일일수익률']\n",
    "merge_df['수익률_966955'] = portfolio_2['일일수익률']\n",
    "\n",
    "print(merge_df)"
   ]
  },
  {
   "cell_type": "code",
   "execution_count": 17,
   "metadata": {},
   "outputs": [
    {
     "name": "stdout",
     "output_type": "stream",
     "text": [
      "                 High      Low       Open      Close    Volume  Adj Close\n",
      "Date                                                                     \n",
      "2017-01-03  2044.0699  2028.47  2034.3101  2043.9700  268100.0  2043.9700\n",
      "2017-01-04  2046.2900  2040.61  2046.2900  2045.6400  371500.0  2045.6400\n",
      "2017-01-05  2046.5000  2039.49  2045.5200  2041.9500  541300.0  2041.9500\n",
      "2017-01-06  2051.8401  2045.66  2048.1101  2049.1201  455400.0  2049.1201\n",
      "2017-01-09  2053.1799  2046.47  2053.1799  2048.7800  398300.0  2048.7800\n",
      "...               ...      ...        ...        ...       ...        ...\n",
      "2020-02-17  2250.0500  2230.26  2243.0701  2242.1699  458200.0  2242.1699\n",
      "2020-02-18  2232.9299  2205.21  2225.9800  2208.8799  470400.0  2208.8799\n",
      "2020-02-19  2226.0000  2191.20  2222.5100  2210.3401  590800.0  2210.3401\n",
      "2020-02-20  2228.1799  2186.72  2223.5500  2195.5000  709600.0  2195.5000\n",
      "2020-02-21  2184.4299  2160.28  2165.6499  2162.8401  635500.0  2162.8401\n",
      "\n",
      "[759 rows x 6 columns]\n",
      "Close Median 2210.889892578125\n",
      "count     759.0000\n",
      "mean     2243.9574\n",
      "std       164.6794\n",
      "min      1909.7100\n",
      "25%      2095.4800\n",
      "50%      2210.8899\n",
      "75%      2390.2150\n",
      "max      2598.1899\n",
      "Name: Close, dtype: float64\n",
      "             High     Low    Open   Close  Volume  Adj Close\n",
      "High       1.0000  0.9983  0.9987  0.9981 -0.0640     0.9981\n",
      "Low        0.9983  1.0000  0.9981  0.9988 -0.0660     0.9988\n",
      "Open       0.9987  0.9981  1.0000  0.9961 -0.0623     0.9961\n",
      "Close      0.9981  0.9988  0.9961  1.0000 -0.0675     1.0000\n",
      "Volume    -0.0640 -0.0660 -0.0623 -0.0675  1.0000    -0.0675\n",
      "Adj Close  0.9981  0.9988  0.9961  1.0000 -0.0675     1.0000\n"
     ]
    },
    {
     "data": {
      "image/png": "[encoded data removed]",
      "text/plain": [
       "<Figure size 432x288 with 1 Axes>"
      ]
     },
     "metadata": {
      "needs_background": "light"
     },
     "output_type": "display_data"
    }
   ],
   "source": [
    "## KOSPI 지수 호출\n",
    "pd.set_option('precision', 4)\n",
    " \n",
    "start = datetime.datetime(2017, 1, 2)\n",
    "end = datetime.datetime(2020, 2, 21)\n",
    "df_null = wb.DataReader(\"^KS11\",\"yahoo\",  start, end)\n",
    "df = df_null.dropna()\n",
    " \n",
    "kospi_chart = df.Close.plot(style='b')\n",
    "kospi_chart.set_title(\"KOSPI\")\n",
    "kospi_chart.set_ylabel(\"Index\")\n",
    "kospi_chart.set_xlim(str(start), str(end))\n",
    " \n",
    "print(df)\n",
    " \n",
    "print(\"Close Median\", df['Close'].median())\n",
    "print(df['Close'].describe())\n",
    "print(df.corr())"
   ]
  },
  {
   "cell_type": "code",
   "execution_count": 39,
   "metadata": {},
   "outputs": [
    {
     "name": "stdout",
     "output_type": "stream",
     "text": [
      "         KOSPI  수익률_913695  수익률_966955\n",
      "0    2043.9700        1.85        1.67\n",
      "1    2045.6400        0.22        0.94\n",
      "2    2041.9500        0.29       -0.56\n",
      "3    2049.1201        1.95        0.86\n",
      "4    2048.7800        0.08        0.39\n",
      "..         ...         ...         ...\n",
      "754  2242.1699        0.00        0.00\n",
      "755  2208.8799        2.68        1.43\n",
      "756  2210.3401        0.81        1.30\n",
      "757  2195.5000       -3.16       -0.86\n",
      "758  2162.8401        0.19        0.26\n",
      "\n",
      "[759 rows x 3 columns]\n"
     ]
    }
   ],
   "source": [
    "## 코스피 지수, 포트폴리오 일별수익률 추가\n",
    "\n",
    "temp = pd.DataFrame()\n",
    "temp['KOSPI'] = df['Close']\n",
    "new_idx_list = list(range(0, len(temp.index)))\n",
    "temp.index = new_idx_list\n",
    "\n",
    "temp['수익률_913695'] = portfolio_1['일일수익률']\n",
    "temp['수익률_966955'] = portfolio_2['일일수익률']\n",
    "\n",
    "print(temp)"
   ]
  },
  {
   "cell_type": "code",
   "execution_count": 40,
   "metadata": {},
   "outputs": [
    {
     "name": "stdout",
     "output_type": "stream",
     "text": [
      "             KOSPI  수익률_913695  수익률_966955\n",
      "KOSPI       1.0000      0.0162      0.0048\n",
      "수익률_913695  0.0162      1.0000      0.3594\n",
      "수익률_966955  0.0048      0.3594      1.0000\n"
     ]
    }
   ],
   "source": [
    "## 상관성 계수 확인\n",
    "\n",
    "print(temp.corr())"
   ]
  },
  {
   "cell_type": "code",
   "execution_count": 117,
   "metadata": {},
   "outputs": [
    {
     "name": "stdout",
     "output_type": "stream",
     "text": [
      "         KOSPI  수익률_913695  수익률_966955   KP_MA_20    KP_MA_5  KP_MA_10  \\\n",
      "0    2043.9700        1.85        1.67     1.0000     1.0000     1.000   \n",
      "1    2045.6400        0.22        0.94     1.0000     1.0000     1.000   \n",
      "2    2041.9500        0.29       -0.56     1.0000     1.0000     1.000   \n",
      "3    2049.1201        1.95        0.86     1.0000     1.0000     1.000   \n",
      "4    2048.7800        0.08        0.39     1.0000     1.0000     1.000   \n",
      "..         ...         ...         ...        ...        ...       ...   \n",
      "754  2242.1699        0.00        0.00  2208.2380  2227.8240  2202.142   \n",
      "755  2208.8799        2.68        1.43  2207.9440  2236.0440  2214.471   \n",
      "756  2210.3401        0.81        1.30  2205.8595  2233.1959  2219.569   \n",
      "757  2195.5000       -3.16       -0.86  2203.2445  2227.5880  2224.040   \n",
      "758  2162.8401        0.19        0.26  2201.0350  2220.0960  2220.796   \n",
      "\n",
      "       KP_MA_3  Mix_MT_3   Bool  ToT_Mix_MT_3_10  ToT_913695  ToT_966955  \\\n",
      "0       1.0000    0.0185   True             1.85        1.85        1.67   \n",
      "1       1.0000    0.0022   True             2.07        2.07        2.63   \n",
      "2       1.0000    0.0029   True             2.37        2.37        2.05   \n",
      "3    2043.8533    0.0195   True             4.37        4.37        2.93   \n",
      "4    2045.5700    0.0008   True             4.45        4.45        3.33   \n",
      "..         ...       ...    ...              ...         ...         ...   \n",
      "754  2238.3100    0.0000   True           792.09      873.60      432.51   \n",
      "755  2239.5733    0.0268   True           816.00      899.69      440.12   \n",
      "756  2231.5466    0.0081   True           823.42      907.79      447.14   \n",
      "757  2220.4633   -0.0086  False           815.48      875.95      442.44   \n",
      "758  2204.9067    0.0026  False           817.86      877.80      443.85   \n",
      "\n",
      "     Mix_MT_3_5  Mix_MT_3_10  Mix_MT_5_20  ToT_Mix_MT_3_5  ToT_Mix_MT_5_20  \n",
      "0        0.0185       0.0185       0.0185            1.85             1.85  \n",
      "1        0.0022       0.0022       0.0022            2.07             2.07  \n",
      "2        0.0029       0.0029       0.0029            2.37             2.37  \n",
      "3        0.0195       0.0195       0.0195            4.37             4.37  \n",
      "4        0.0008       0.0008       0.0008            4.45             4.45  \n",
      "..          ...          ...          ...             ...              ...  \n",
      "754      0.0000       0.0000       0.0000          873.60           839.50  \n",
      "755      0.0268       0.0268       0.0268          899.69           864.68  \n",
      "756      0.0081       0.0081       0.0081          907.79           872.49  \n",
      "757     -0.0316      -0.0086      -0.0316          875.95           841.76  \n",
      "758      0.0019       0.0026       0.0019          877.80           843.55  \n",
      "\n",
      "[759 rows x 17 columns]\n"
     ]
    }
   ],
   "source": [
    "## Moving Average Data 추가\n",
    "## 미래참조 오류의 해결을 위해 1칸 시프트 하여\n",
    "## 어제값을 기준으로 수익률을 처리할 수 있게함.(오늘칸을 오늘값으로 비교하는게 아닌, 전날값(1칸 시프트 되었으므로)으로 비교)\n",
    "\n",
    "temp['KP_MA_3'] = temp['KOSPI'].rolling(window=3).mean().shift(1)\n",
    "temp['KP_MA_5'] = temp['KOSPI'].rolling(window=5).mean().shift(1)\n",
    "temp['KP_MA_10'] = temp['KOSPI'].rolling(window=10).mean().shift(1)\n",
    "temp['KP_MA_20'] = temp['KOSPI'].rolling(window=20).mean().shift(1)\n",
    "\n",
    "## 없는 데이터는 1로 처리\n",
    "temp = temp.fillna(1)\n",
    "\n",
    "print(temp)"
   ]
  },
  {
   "cell_type": "code",
   "execution_count": 118,
   "metadata": {},
   "outputs": [
    {
     "name": "stdout",
     "output_type": "stream",
     "text": [
      "         KOSPI  수익률_913695  수익률_966955   KP_MA_20    KP_MA_5  KP_MA_10  \\\n",
      "0    2043.9700        1.85        1.67     1.0000     1.0000     1.000   \n",
      "1    2045.6400        0.22        0.94     1.0000     1.0000     1.000   \n",
      "2    2041.9500        0.29       -0.56     1.0000     1.0000     1.000   \n",
      "3    2049.1201        1.95        0.86     1.0000     1.0000     1.000   \n",
      "4    2048.7800        0.08        0.39     1.0000     1.0000     1.000   \n",
      "..         ...         ...         ...        ...        ...       ...   \n",
      "754  2242.1699        0.00        0.00  2208.2380  2227.8240  2202.142   \n",
      "755  2208.8799        2.68        1.43  2207.9440  2236.0440  2214.471   \n",
      "756  2210.3401        0.81        1.30  2205.8595  2233.1959  2219.569   \n",
      "757  2195.5000       -3.16       -0.86  2203.2445  2227.5880  2224.040   \n",
      "758  2162.8401        0.19        0.26  2201.0350  2220.0960  2220.796   \n",
      "\n",
      "       KP_MA_3  Mix_MT_3   Bool  ToT_Mix_MT_3_10  ToT_913695  ToT_966955  \\\n",
      "0       1.0000    0.0185   True             1.85        1.85        1.67   \n",
      "1       1.0000    0.0022   True             2.07        2.07        2.63   \n",
      "2       1.0000    0.0029   True             2.37        2.37        2.05   \n",
      "3    2043.8533    0.0195   True             4.37        4.37        2.93   \n",
      "4    2045.5700    0.0008   True             4.45        4.45        3.33   \n",
      "..         ...       ...    ...              ...         ...         ...   \n",
      "754  2238.3100    0.0000   True           738.41      873.60      432.51   \n",
      "755  2239.5733    0.0268   True           760.88      899.69      440.12   \n",
      "756  2231.5466    0.0081   True           767.86      907.79      447.14   \n",
      "757  2220.4633   -0.0086  False           740.43      875.95      442.44   \n",
      "758  2204.9067    0.0026  False           742.62      877.80      443.85   \n",
      "\n",
      "     Mix_MT_3_5  Mix_MT_3_10  Mix_MT_5_20  ToT_Mix_MT_3_5  ToT_Mix_MT_5_20  \n",
      "0        0.0185       0.0185       0.0185            1.85             1.85  \n",
      "1        0.0022       0.0022       0.0022            2.07             2.07  \n",
      "2        0.0029       0.0029       0.0029            2.37             2.37  \n",
      "3        0.0195       0.0195       0.0195            4.37             4.37  \n",
      "4        0.0008       0.0008       0.0008            4.45             4.45  \n",
      "..          ...          ...          ...             ...              ...  \n",
      "754      0.0000       0.0000       0.0000          782.78           750.82  \n",
      "755      0.0268       0.0268       0.0268          806.44           773.62  \n",
      "756      0.0130       0.0081       0.0081          818.22           780.69  \n",
      "757     -0.0086      -0.0316      -0.0316          810.33           752.86  \n",
      "758      0.0026       0.0026       0.0019          812.69           754.48  \n",
      "\n",
      "[759 rows x 17 columns]\n"
     ]
    }
   ],
   "source": [
    "## 단기이평이 장기이평 이상일 경우 913695, 미만일 경우 966955 투자\n",
    "temp['Mix_MT_3_5'] = temp['수익률_913695'].where(temp['KP_MA_3'] - temp['KP_MA_5'] >= 0, temp['수익률_966955'])/100\n",
    "temp['Mix_MT_3_10'] = temp['수익률_913695'].where(temp['KP_MA_5'] - temp['KP_MA_10'] >= 0, temp['수익률_966955'])/100\n",
    "temp['Mix_MT_5_20'] = temp['수익률_913695'].where(temp['KP_MA_5'] - temp['KP_MA_20'] >= 0, temp['수익률_966955'])/100\n",
    "\n",
    "## 누적수익률 데이터 추가\n",
    "temp['ToT_913695'] = np.round(np.cumprod(1 + (temp['수익률_913695']/100).values) - 1 , 4) * 100\n",
    "temp['ToT_966955'] = np.round(np.cumprod(1 + (temp['수익률_966955']/100).values) - 1 , 4) * 100\n",
    "temp['ToT_Mix_MT_3_5'] = np.round(np.cumprod(1 + temp['Mix_MT_3_5'].values) - 1 , 4) * 100\n",
    "temp['ToT_Mix_MT_3_10'] = np.round(np.cumprod(1 + temp['Mix_MT_3_10'].values) - 1 , 4) * 100\n",
    "temp['ToT_Mix_MT_5_20'] = np.round(np.cumprod(1 + temp['Mix_MT_5_20'].values) - 1 , 4) * 100\n",
    "\n",
    "## 결과 확인\n",
    "print(temp)"
   ]
  },
  {
   "cell_type": "code",
   "execution_count": 119,
   "metadata": {},
   "outputs": [
    {
     "name": "stdout",
     "output_type": "stream",
     "text": [
      "     CAGR     MDD           MT_DoW\n",
      "0  113.84 -14.259       ToT_913695\n",
      "1   75.86 -10.333       ToT_966955\n",
      "2  108.98 -10.285   ToT_Mix_MT_3_5\n",
      "3  103.49 -11.522  ToT_Mix_MT_3_10\n",
      "4  104.44  -8.587  ToT_Mix_MT_5_20\n"
     ]
    }
   ],
   "source": [
    "## 성과지표 만들기\n",
    "def get_result(profit_data):\n",
    "\n",
    "    ## 성과지표 출력용 데이터프레임 생성\n",
    "    result_data = pd.DataFrame()\n",
    "    \n",
    "    for col in list(profit_data.columns):\n",
    "        \n",
    "        ## 성과지표 제작용 데이터 호출\n",
    "        total_profit_data = profit_data[col]\n",
    "\n",
    "        ## CAGR 계산\n",
    "        start = 1\n",
    "        end = total_profit_data.iloc[-1]/100 + 1\n",
    "\n",
    "        year = int(len(total_profit_data.index)/250)\n",
    "        cagr = round(((end / start) ** (1/year)-1) * 100, 2)\n",
    "\n",
    "        ## MDD 계산\n",
    "        arr_v = np.array(total_profit_data)\n",
    "        peak_lower = np.argmax(np.maximum.accumulate(arr_v) - arr_v)\n",
    "        peak_upper = np.argmax(arr_v[:peak_lower])\n",
    "        mdd = round((arr_v[peak_lower] - arr_v[peak_upper]) / arr_v[peak_upper] * 100, 3)\n",
    "\n",
    "        ## 데이터 추가\n",
    "        result_data = result_data.append({'MT_DoW' : col,'CAGR': cagr, 'MDD': mdd} , ignore_index=True)    \n",
    "\n",
    "    return result_data\n",
    "\n",
    "\n",
    "print(get_result(temp[['ToT_913695', 'ToT_966955', 'ToT_Mix_MT_3_5', 'ToT_Mix_MT_3_10', 'ToT_Mix_MT_5_20']]))"
   ]
  },
  {
   "cell_type": "code",
   "execution_count": 120,
   "metadata": {},
   "outputs": [
    {
     "data": {
      "text/plain": [
       "<matplotlib.axes._subplots.AxesSubplot at 0x2bec5bae5f8>"
      ]
     },
     "execution_count": 120,
     "metadata": {},
     "output_type": "execute_result"
    },
    {
     "data": {
      "image/png": "[encoded data removed]",
      "text/plain": [
       "<Figure size 432x288 with 1 Axes>"
      ]
     },
     "metadata": {},
     "output_type": "display_data"
    }
   ],
   "source": [
    "# 그래프로 시각화하여 확인\n",
    "import matplotlib.pyplot as plt\n",
    "from matplotlib import font_manager, rc\n",
    "\n",
    "plt.style.use('fivethirtyeight')\n",
    "\n",
    "font_name = font_manager.FontProperties(fname=\"c:/Windows/Fonts/malgun.ttf\").get_name()\n",
    "rc('font', family=font_name)\n",
    "\n",
    "temp[['ToT_913695', 'ToT_966955', 'ToT_Mix_MT_3_5', 'ToT_Mix_MT_3_10', 'ToT_Mix_MT_5_20']].plot(figsize=(6,4))\n",
    "\n",
    "## 결과 : 중단기 이평을 조합하여 포트폴리오 믹싱을 하니 결과값이 좋아짐. CAGR가 매우 개선되는것을 볼수있음.\n",
    "## 다만, 없는 데이터를 0 처리한게 조금 정확성을 낮추는 요인이 됐을것으로 추측함."
   ]
  },
  {
   "cell_type": "code",
   "execution_count": null,
   "metadata": {},
   "outputs": [],
   "source": []
  }
 ],
 "metadata": {
  "kernelspec": {
   "display_name": "Python 3",
   "language": "python",
   "name": "python3"
  },
  "language_info": {
   "codemirror_mode": {
    "name": "ipython",
    "version": 3
   },
   "file_extension": ".py",
   "mimetype": "text/x-python",
   "name": "python",
   "nbconvert_exporter": "python",
   "pygments_lexer": "ipython3",
   "version": "3.7.3"
  }
 },
 "nbformat": 4,
 "nbformat_minor": 2
}
