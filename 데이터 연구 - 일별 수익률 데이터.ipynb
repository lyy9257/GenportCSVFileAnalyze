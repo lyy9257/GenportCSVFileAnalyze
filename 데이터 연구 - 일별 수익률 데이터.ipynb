{
 "cells": [
  {
   "cell_type": "code",
   "execution_count": 1,
   "metadata": {},
   "outputs": [],
   "source": [
    "import numpy as np\n",
    "import pandas as pd\n",
    "import matplotlib as mpl"
   ]
  },
  {
   "cell_type": "code",
   "execution_count": 2,
   "metadata": {},
   "outputs": [
    {
     "name": "stdout",
     "output_type": "stream",
     "text": [
      "           날짜  매수 종목수  매도 종목수  남은 종목수  일일수익률   누적수익률         총자산       남은 현금\n",
      "0    20170102       7       1       6   1.85    1.85  10184933.0   4150907.0\n",
      "1    20170103       1       2       5   0.22    2.08  10207547.0   5180684.0\n",
      "2    20170104       1       5       1   0.29    2.37  10237022.0   9291022.0\n",
      "3    20170105       8       2       7   1.95    4.36  10436317.0   3247095.0\n",
      "4    20170106       3       1       9   0.08    4.45  10444935.0   1269944.0\n",
      "..        ...     ...     ...     ...    ...     ...         ...         ...\n",
      "747  20200122       2       4       4   2.37  840.14  94013652.0  56991652.0\n",
      "748  20200123       4       4       4  -0.41  836.31  93630646.0  56457646.0\n",
      "749  20200128       0       4       0   4.00  873.80  97379839.0  97379839.0\n",
      "750  20200129       0       0       0   0.00  873.80  97379839.0  97379839.0\n",
      "751  20200130       0       0       0   0.00  873.80  97379839.0  97379839.0\n",
      "\n",
      "[752 rows x 8 columns]\n"
     ]
    }
   ],
   "source": [
    "## 수익률 파일 호출\n",
    "\n",
    "monthly_profit = pd.read_csv('Test_CSV/913695/trade_history_daily_913695.csv')\n",
    "print(monthly_profit)"
   ]
  },
  {
   "cell_type": "code",
   "execution_count": 3,
   "metadata": {},
   "outputs": [
    {
     "name": "stdout",
     "output_type": "stream",
     "text": [
      "ㅡㅡㅡㅡㅡ\n",
      "Average Day_profit : 0\n",
      "STDEV Day_profit : 1\n",
      "Gap_max_min_profit : 9\n",
      "ㅡㅡㅡㅡㅡ\n",
      "Average Day_buy : 3\n",
      "Average Day_sell : 3\n",
      "ㅡㅡㅡㅡㅡ\n"
     ]
    }
   ],
   "source": [
    "## 일별 수익률 평균 및 표준편차, 최대 - 최소 수익률 편차 구하기\n",
    "avg_day_profit = round(monthly_profit['일일수익률'].mean(), 3)\n",
    "std_day_profit = round(monthly_profit['일일수익률'].std(), 3)\n",
    "max_min_gap_day_profit = monthly_profit['일일수익률'].max() - monthly_profit['일일수익률'].min()\n",
    "\n",
    "print('ㅡㅡㅡㅡㅡ')\n",
    "print('Average Day_profit : %d' %avg_day_profit)\n",
    "print('STDEV Day_profit : %d' %std_day_profit)\n",
    "print('Gap_max_min_profit : %d' %max_min_gap_day_profit)\n",
    "\n",
    "## 일별 매수, 매도 종목수 평균 구하기\n",
    "avg_day_buy = round(monthly_profit['매수 종목수'].mean(), 3)\n",
    "avg_day_sell = round(monthly_profit['매도 종목수'].mean(), 3)\n",
    "\n",
    "print('ㅡㅡㅡㅡㅡ')\n",
    "print('Average Day_buy : %d' %avg_day_buy)\n",
    "print('Average Day_sell : %d' %avg_day_sell)\n",
    "print('ㅡㅡㅡㅡㅡ')"
   ]
  },
  {
   "cell_type": "code",
   "execution_count": 4,
   "metadata": {},
   "outputs": [
    {
     "name": "stdout",
     "output_type": "stream",
     "text": [
      "           날짜  매수수량 - 수익률곱  매도수량 - 수익률곱\n",
      "0    20170102        12.95         1.85\n",
      "1    20170103         0.22         0.44\n",
      "2    20170104         0.29         1.45\n",
      "3    20170105        15.60         3.90\n",
      "4    20170106         0.24         0.08\n",
      "..        ...          ...          ...\n",
      "747  20200122         4.74         9.48\n",
      "748  20200123        -1.64        -1.64\n",
      "749  20200128         0.00        16.00\n",
      "750  20200129         0.00         0.00\n",
      "751  20200130         0.00         0.00\n",
      "\n",
      "[752 rows x 3 columns]\n"
     ]
    }
   ],
   "source": [
    "# 가설 : 일별 트레이딩 종목수와 일별수익률간에는 관계가 있을 것이다.\n",
    "## 데이터프레임 곱을 통해 확인해본다.\n",
    "\n",
    "monthly_profit['매수수량 - 수익률곱'] = monthly_profit['일일수익률'].mul(monthly_profit['매수 종목수'])\n",
    "monthly_profit['매도수량 - 수익률곱'] = monthly_profit['일일수익률'].mul(monthly_profit['매도 종목수'])\n",
    "\n",
    "print(monthly_profit[['날짜','매수수량 - 수익률곱','매도수량 - 수익률곱']])"
   ]
  },
  {
   "cell_type": "code",
   "execution_count": 5,
   "metadata": {},
   "outputs": [
    {
     "data": {
      "text/plain": [
       "<Figure size 640x480 with 1 Axes>"
      ]
     },
     "metadata": {},
     "output_type": "display_data"
    },
    {
     "data": {
      "text/plain": [
       "<Figure size 2000x400 with 0 Axes>"
      ]
     },
     "metadata": {},
     "output_type": "display_data"
    }
   ],
   "source": [
    "import matplotlib.pyplot as plt\n",
    "import numpy as np\n",
    "\n",
    "labels = monthly_profit['날짜']\n",
    "means_bmp = monthly_profit['매수수량 - 수익률곱']\n",
    "means_smp = monthly_profit['매도수량 - 수익률곱']\n",
    "\n",
    "x = np.arange(len(labels))  # the label locations\n",
    "width = 1  # the width of the bars\n",
    "\n",
    "fig, ax = plt.subplots()\n",
    "rects1 = ax.bar(x, means_bmp, means_smp, width, label='profit_month')\n",
    "\n",
    "# Add some text for labels, title and custom x-axis tick labels, etc.\n",
    "ax.set_ylabel('Day Profit')\n",
    "ax.set_title('profit')\n",
    "ax.set_xticks(x)\n",
    "ax.set_xticklabels(labels)\n",
    "ax.legend()\n",
    "\n",
    "for label in ax.xaxis.get_ticklabels() :\n",
    "    label.set_rotation(45)\n",
    "\n",
    "'''\n",
    "def autolabel(rects):\n",
    "    \"\"\"Attach a text label above each bar in *rects*, displaying its height.\"\"\"\n",
    "    for rect in rects:\n",
    "        height = rect.get_height()\n",
    "        ax.annotate('{}'.format(height),\n",
    "                    xy=(rect.get_x() + rect.get_width() / 2, height),\n",
    "                    xytext=(0, 3),  # 3 points vertical offset\n",
    "                    textcoords=\"offset points\",\n",
    "                    ha='center', va='bottom')\n",
    "\n",
    "autolabel(rects1)\n",
    "'''\n",
    "\n",
    "## fig.tight_layout()\n",
    "plt.figure(figsize=(20, 4))\n",
    "plt.show()\n",
    "\n",
    "## 왜 그래프가 안튀어나오는겨...(2020. 01. 26)"
   ]
  },
  {
   "cell_type": "code",
   "execution_count": 6,
   "metadata": {},
   "outputs": [
    {
     "name": "stdout",
     "output_type": "stream",
     "text": [
      "ㅡㅡㅡㅡㅡ\n",
      "Average 매수수량 - 수익률 곱 :  1.133\n",
      "Average 매도수량 - 수익률 곱 :  1.262\n",
      "ㅡㅡㅡㅡㅡ\n"
     ]
    }
   ],
   "source": [
    "## 일별 매수, 매도 종목수 평균 구하기\n",
    "avg_day_bmp = round(monthly_profit['매수수량 - 수익률곱'].mean(), 3)\n",
    "avg_day_smp = round(monthly_profit['매도수량 - 수익률곱'].mean(), 3)\n",
    "\n",
    "print('ㅡㅡㅡㅡㅡ')\n",
    "print('Average 매수수량 - 수익률 곱 : ', avg_day_bmp)\n",
    "print('Average 매도수량 - 수익률 곱 : ', avg_day_smp)\n",
    "print('ㅡㅡㅡㅡㅡ')"
   ]
  },
  {
   "cell_type": "code",
   "execution_count": 7,
   "metadata": {},
   "outputs": [],
   "source": [
    "## 요일 산출후 요일별 수익률 모아서 확인하기\n",
    "monthly_profit['날짜'] = monthly_profit['날짜'].apply(lambda x: pd.to_datetime(str(x), format='%Y%m%d'))\n",
    "monthly_profit['요일'] = monthly_profit['날짜'].apply(lambda x: pd.Timestamp(x).dayofweek)"
   ]
  },
  {
   "cell_type": "code",
   "execution_count": 9,
   "metadata": {},
   "outputs": [
    {
     "name": "stdout",
     "output_type": "stream",
     "text": [
      "   요일     일일수익률\n",
      "0   0  0.360000\n",
      "1   1  0.442752\n",
      "2   2  0.199932\n",
      "3   3  0.228442\n",
      "4   4  0.323750\n",
      "         요일     일일수익률\n",
      "0  0.000000  1.165701\n",
      "1  1.000000  1.301903\n",
      "2  1.414214  1.229578\n",
      "3  1.732051  1.243230\n",
      "4  2.000000  1.204601\n"
     ]
    }
   ],
   "source": [
    "mean_df = monthly_profit[['일일수익률', '요일']].groupby(['요일'], as_index=False).mean()\n",
    "stdev_df = monthly_profit[['일일수익률', '요일']].groupby(['요일'], as_index=False).std()\n",
    "\n",
    "print(mean_df)\n",
    "print(stdev_df)"
   ]
  },
  {
   "cell_type": "code",
   "execution_count": null,
   "metadata": {},
   "outputs": [],
   "source": []
  }
 ],
 "metadata": {
  "kernelspec": {
   "display_name": "Python 3",
   "language": "python",
   "name": "python3"
  },
  "language_info": {
   "codemirror_mode": {
    "name": "ipython",
    "version": 3
   },
   "file_extension": ".py",
   "mimetype": "text/x-python",
   "name": "python",
   "nbconvert_exporter": "python",
   "pygments_lexer": "ipython3",
   "version": "3.7.3"
  }
 },
 "nbformat": 4,
 "nbformat_minor": 2
}
