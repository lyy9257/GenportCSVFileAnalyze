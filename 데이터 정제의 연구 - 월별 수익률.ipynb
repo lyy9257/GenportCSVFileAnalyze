{
 "cells": [
  {
   "cell_type": "code",
   "execution_count": 1,
   "metadata": {},
   "outputs": [],
   "source": [
    "import numpy as np\n",
    "import pandas as pd"
   ]
  },
  {
   "cell_type": "code",
   "execution_count": 40,
   "metadata": {},
   "outputs": [
    {
     "name": "stdout",
     "output_type": "stream",
     "text": [
      "ㅡㅡㅡㅡㅡㅡㅡㅡㅡㅡㅡㅡㅡㅡㅡㅡㅡㅡㅡㅡㅡㅡㅡㅡㅡㅡㅡㅡㅡㅡㅡㅡㅡㅡㅡㅡㅡㅡㅡㅡㅡㅡㅡㅡㅡㅡㅡㅡㅡㅡㅡㅡㅡㅡㅡㅡㅡㅡㅡㅡㅡㅡㅡ\n",
      "       날짜    수익률  일평균수익률     평균보유일  수익종목  손실종목      평균수익      평균손실   월 단리수익  \\\n",
      "0  201701   7.06    0.34  0.637500    63    17  2.602009 -3.771618   705937   \n",
      "1  201702  10.86    0.52  0.643564    76    23  3.013323 -3.408598  1163069   \n",
      "2  201703  10.32    0.45  0.491228    91    23  3.024382 -5.314629  1225170   \n",
      "3  201704  -0.04   -0.00  0.647727    57    28  2.753345 -4.701845    -4836   \n",
      "4  201705   5.86    0.30  0.589474    70    25  2.846719 -3.954740   766577   \n",
      "\n",
      "    월 단리누적    월 복리수익  복리기준누적(총자산)      총손익  \n",
      "0   705937  10705937     10705937   705937  \n",
      "1  1869006   1163069     11869006  1869006  \n",
      "2  3094176   1225170     13094176  3094176  \n",
      "3  3089340     -4836     13089340  3089340  \n",
      "4  3855917    766577     13855917  3855917  \n",
      "ㅡㅡㅡㅡㅡㅡㅡㅡㅡㅡㅡㅡㅡㅡㅡㅡㅡㅡㅡㅡㅡㅡㅡㅡㅡㅡㅡㅡㅡㅡㅡㅡㅡㅡㅡㅡㅡㅡㅡㅡㅡㅡㅡㅡㅡㅡㅡㅡㅡㅡㅡㅡㅡㅡㅡㅡㅡㅡㅡㅡㅡㅡㅡ\n",
      "        날짜   수익률  일평균수익률     평균보유일  수익종목  손실종목      평균수익      평균손실   월 단리수익  \\\n",
      "32  201909 -1.91   -0.10  0.377358    64    40  3.171084 -4.934577  -757159   \n",
      "33  201910  3.01    0.14  0.551402    66    39  3.217566 -4.186875  1174000   \n",
      "34  201911 -3.80   -0.18  0.456311    59    43  3.121172 -4.573055 -1526275   \n",
      "35  201912 -1.34   -0.06  0.541284    65    44  3.118257 -4.637792  -517395   \n",
      "36  202001  4.80    0.30  0.494382    60    29  3.336411 -4.152455  1827243   \n",
      "\n",
      "      월 단리누적   월 복리수익  복리기준누적(총자산)       총손익  \n",
      "32  28944927  -757159     38944927  28944927  \n",
      "33  30118927  1174000     40118927  30118927  \n",
      "34  28592652 -1526275     38592652  28592652  \n",
      "35  28075257  -517395     38075257  28075257  \n",
      "36  29902500  1827243     39902500  29902500  \n",
      "ㅡㅡㅡㅡㅡㅡㅡㅡㅡㅡㅡㅡㅡㅡㅡㅡㅡㅡㅡㅡㅡㅡㅡㅡㅡㅡㅡㅡㅡㅡㅡㅡㅡㅡㅡㅡㅡㅡㅡㅡㅡㅡㅡㅡㅡㅡㅡㅡㅡㅡㅡㅡㅡㅡㅡㅡㅡㅡㅡㅡㅡㅡㅡ\n"
     ]
    }
   ],
   "source": [
    "## 수익률 파일 호출\n",
    "\n",
    "monthly_profit = pd.read_csv('Test_CSV/937501/monthly_stat_937501.csv')\n",
    "print('ㅡㅡㅡㅡㅡㅡㅡㅡㅡㅡㅡㅡㅡㅡㅡㅡㅡㅡㅡㅡㅡㅡㅡㅡㅡㅡㅡㅡㅡㅡㅡㅡㅡㅡㅡㅡㅡㅡㅡㅡㅡㅡㅡㅡㅡㅡㅡㅡㅡㅡㅡㅡㅡㅡㅡㅡㅡㅡㅡㅡㅡㅡㅡ')\n",
    "print(monthly_profit.head())\n",
    "print('ㅡㅡㅡㅡㅡㅡㅡㅡㅡㅡㅡㅡㅡㅡㅡㅡㅡㅡㅡㅡㅡㅡㅡㅡㅡㅡㅡㅡㅡㅡㅡㅡㅡㅡㅡㅡㅡㅡㅡㅡㅡㅡㅡㅡㅡㅡㅡㅡㅡㅡㅡㅡㅡㅡㅡㅡㅡㅡㅡㅡㅡㅡㅡ')\n",
    "print(monthly_profit.tail())\n",
    "print('ㅡㅡㅡㅡㅡㅡㅡㅡㅡㅡㅡㅡㅡㅡㅡㅡㅡㅡㅡㅡㅡㅡㅡㅡㅡㅡㅡㅡㅡㅡㅡㅡㅡㅡㅡㅡㅡㅡㅡㅡㅡㅡㅡㅡㅡㅡㅡㅡㅡㅡㅡㅡㅡㅡㅡㅡㅡㅡㅡㅡㅡㅡㅡ')"
   ]
  },
  {
   "cell_type": "code",
   "execution_count": 41,
   "metadata": {},
   "outputs": [
    {
     "name": "stdout",
     "output_type": "stream",
     "text": [
      "월 수익률 평균 :  3.918\n",
      "월 수익률 표준편차 :  4.781\n",
      "최대 수익 - 최대 손실 편차 :  19.79\n"
     ]
    }
   ],
   "source": [
    "## 월별 수익률 평균 및 표준편차, 최대 - 최소 수익률 편차 구하기\n",
    "\n",
    "avg_month_profit = round(monthly_profit['수익률'].mean(), 3)\n",
    "std_month_profit = round(monthly_profit['수익률'].std(), 3)\n",
    "max_min_gap_month_profit = monthly_profit['수익률'].max() - monthly_profit['수익률'].min()\n",
    "\n",
    "print('월 수익률 평균 : ', avg_month_profit)\n",
    "print('월 수익률 표준편차 : ', std_month_profit)\n",
    "print('최대 수익 - 최대 손실 편차 : ', max_min_gap_month_profit)"
   ]
  },
  {
   "cell_type": "code",
   "execution_count": 42,
   "metadata": {},
   "outputs": [
    {
     "name": "stdout",
     "output_type": "stream",
     "text": [
      "False    21\n",
      "True     16\n",
      "Name: 수익률, dtype: int64\n"
     ]
    }
   ],
   "source": [
    "## 평균 대비 수익률 비교\n",
    "## True : 평균 대비 많이 벌은 달의 수\n",
    "## False : 평균 대비 적게 벌은 달의 수\n",
    "\n",
    "count_profit_more_avg =  monthly_profit['수익률'] > avg_month_profit\n",
    "print(count_profit_more_avg.value_counts())"
   ]
  },
  {
   "cell_type": "code",
   "execution_count": 43,
   "metadata": {},
   "outputs": [
    {
     "name": "stdout",
     "output_type": "stream",
     "text": [
      "True     28\n",
      "False     9\n",
      "Name: 수익률, dtype: int64\n"
     ]
    }
   ],
   "source": [
    "## 수익 / 손실 월 횟수 카운트\n",
    "## True : 수익난 월의 횟수\n",
    "## False : 손실난 월의 횟수\n",
    "\n",
    "count_profit_more_avg =  monthly_profit['수익률'] > 0\n",
    "print(count_profit_more_avg.value_counts())"
   ]
  },
  {
   "cell_type": "code",
   "execution_count": 44,
   "metadata": {},
   "outputs": [
    {
     "data": {
      "image/png": "[encoded data removed]",
      "text/plain": [
       "<Figure size 432x288 with 1 Axes>"
      ]
     },
     "metadata": {
      "needs_background": "light"
     },
     "output_type": "display_data"
    }
   ],
   "source": [
    "## 수익률 그래프 시현\n",
    "\n",
    "import matplotlib\n",
    "import matplotlib.pyplot as plt\n",
    "import numpy as np\n",
    "\n",
    "labels = monthly_profit['날짜']\n",
    "means = monthly_profit['수익률']\n",
    "\n",
    "x = np.arange(len(labels))  # the label locations\n",
    "width = 0.35  # the width of the bars\n",
    "\n",
    "fig, ax = plt.subplots()\n",
    "rects1 = ax.bar(x, means, width, label='profit_month')\n",
    "\n",
    "# Add some text for labels, title and custom x-axis tick labels, etc.\n",
    "ax.set_ylabel('Monthly Profit')\n",
    "ax.set_title('profit')\n",
    "ax.set_xticks(x)\n",
    "ax.set_xticklabels(labels)\n",
    "ax.legend()\n",
    "\n",
    "for label in ax.xaxis.get_ticklabels() :\n",
    "    label.set_rotation(45)\n",
    "\n",
    "'''\n",
    "def autolabel(rects):\n",
    "    \"\"\"Attach a text label above each bar in *rects*, displaying its height.\"\"\"\n",
    "    for rect in rects:\n",
    "        height = rect.get_height()\n",
    "        ax.annotate('{}'.format(height),\n",
    "                    xy=(rect.get_x() + rect.get_width() / 2, height),\n",
    "                    xytext=(0, 3),  # 3 points vertical offset\n",
    "                    textcoords=\"offset points\",\n",
    "                    ha='center', va='bottom')\n",
    "\n",
    "autolabel(rects1)\n",
    "'''\n",
    "\n",
    "## fig.tight_layout()\n",
    "plt.show()"
   ]
  },
  {
   "cell_type": "code",
   "execution_count": 45,
   "metadata": {},
   "outputs": [
    {
     "name": "stdout",
     "output_type": "stream",
     "text": [
      "        날짜    수익률  수익/손실종목비\n",
      "0   201701   7.06     3.706\n",
      "1   201702  10.86     3.304\n",
      "2   201703  10.32     3.957\n",
      "3   201704  -0.04     2.036\n",
      "4   201705   5.86     2.800\n",
      "5   201706   5.04     2.280\n",
      "6   201707   3.72     2.577\n",
      "7   201708  10.57     2.654\n",
      "8   201709   2.72     2.138\n",
      "9   201710   3.20     2.174\n",
      "10  201711  13.76     5.500\n",
      "11  201712   2.10     2.048\n",
      "12  201801   5.37     2.062\n",
      "13  201802  -2.37     1.500\n",
      "14  201803   7.34     2.067\n",
      "15  201804   4.89     2.135\n",
      "16  201805   6.84     2.353\n",
      "17  201806  -6.03     1.082\n",
      "18  201807   2.08     1.781\n",
      "19  201808   3.45     2.188\n",
      "20  201809  -0.95     1.643\n",
      "21  201810   2.80     2.333\n",
      "22  201811   3.34     2.471\n",
      "23  201812   6.51     2.684\n",
      "24  201901   9.23     3.192\n",
      "25  201902   2.44     1.793\n",
      "26  201903  12.40     4.571\n",
      "27  201904  -0.29     1.765\n",
      "28  201905  -3.32     1.579\n",
      "29  201906   1.29     1.935\n",
      "30  201907   2.65     1.639\n",
      "31  201908  11.37     3.765\n",
      "32  201909  -1.91     1.600\n",
      "33  201910   3.01     1.692\n",
      "34  201911  -3.80     1.372\n",
      "35  201912  -1.34     1.477\n",
      "36  202001   4.80     2.069\n"
     ]
    }
   ],
   "source": [
    "## 수익종목 수 / 손실종목 수 비율 확인\n",
    "\n",
    "monthly_profit['수익/손실종목비'] = (monthly_profit['수익종목']/monthly_profit['손실종목']).round(3)\n",
    "print(monthly_profit[['날짜','수익률','수익/손실종목비']])"
   ]
  },
  {
   "cell_type": "code",
   "execution_count": 46,
   "metadata": {
    "scrolled": false
   },
   "outputs": [
    {
     "data": {
      "image/png": "[encoded data removed]",
      "text/plain": [
       "<Figure size 432x288 with 1 Axes>"
      ]
     },
     "metadata": {
      "needs_background": "light"
     },
     "output_type": "display_data"
    }
   ],
   "source": [
    "## 그래프로 시현\n",
    "\n",
    "ratio = monthly_profit['수익/손실종목비']\n",
    "profit = monthly_profit['수익률']\n",
    "labels = monthly_profit['날짜']\n",
    "\n",
    "plt.plot(ratio, 'g-', label='Ratio') # 녹색 실선\n",
    "plt.plot(profit, 'r-', label='Profit') # 빨간 실선\n",
    "\n",
    "plt.legend() # 범례 그리기, loc=9 ; top center를 의미\n",
    "plt.xlabel('Time Frame(Past -> Now)')\n",
    "plt.title('Ratio - Profit')\n",
    "plt.show()"
   ]
  },
  {
   "cell_type": "code",
   "execution_count": 100,
   "metadata": {},
   "outputs": [],
   "source": [
    "## 월별 수익률 확인\n",
    "## 날짜에서 월 추출 후 월별로 묶어 수익률 출력\n",
    "monthly_profit['Month'] = monthly_profit['날짜'].astype(str).str.slice(start=4, stop=6).astype(int)\n",
    "mean_df = monthly_profit[['수익률', 'Month']].groupby(['Month'], as_index=False).mean()\n",
    "temp = monthly_profit[['수익/손실종목비', 'Month']].groupby(['Month'], as_index=False).mean()\n",
    "\n",
    "## 데이터프레임 합체 후 값 순으로 내림차순(값이 큰 순)으로 랭킹 측정\n",
    "mean_df = pd.concat([mean_df, temp.drop(columns='Month')], axis = 1, sort=True)\n",
    "mean_df['rank_profit'] = mean_df['수익률'].rank(ascending=False, method = 'first')\n",
    "mean_df['rank_HL_Ratio'] = mean_df['수익/손실종목비'].rank(ascending=False, method = 'first')\n",
    "\n",
    "## 랭킹을 더하여 스코어 확인\n",
    "mean_df['Total_Score'] = (mean_df['rank_profit'] + mean_df['rank_HL_Ratio'])/2"
   ]
  },
  {
   "cell_type": "code",
   "execution_count": 102,
   "metadata": {},
   "outputs": [
    {
     "name": "stdout",
     "output_type": "stream",
     "text": [
      "    Month        수익률  수익/손실종목비  rank_profit  rank_HL_Ratio  Total_Score\n",
      "2       3  10.020000  3.531667          1.0            1.0          1.0\n",
      "7       8   8.463333  2.869000          2.0            3.0          2.5\n",
      "10     11   4.433333  3.114333          4.0            2.0          3.0\n",
      "0       1   6.615000  2.757250          3.0            4.0          3.5\n",
      "1       2   3.643333  2.199000          5.0            6.0          5.5\n",
      "4       5   3.126667  2.244000          6.0            5.0          5.5\n",
      "9      10   3.003333  2.066333          7.0            8.0          7.5\n",
      "11     12   2.423333  2.069667          9.0            7.0          8.0\n",
      "6       7   2.816667  1.999000          8.0            9.0          8.5\n",
      "3       4   1.520000  1.978667         10.0           10.0         10.0\n",
      "5       6   0.100000  1.765667         11.0           12.0         11.5\n",
      "8       9  -0.046667  1.793667         12.0           11.0         11.5\n"
     ]
    }
   ],
   "source": [
    "## 출력\n",
    "print(mean_df.sort_values('Total_Score'))"
   ]
  },
  {
   "cell_type": "code",
   "execution_count": 163,
   "metadata": {},
   "outputs": [
    {
     "name": "stdout",
     "output_type": "stream",
     "text": [
      "    Month        수익률  수익/손실종목비  rank_profit  rank_HL_Ratio  Total_Score\n",
      "5       6   0.100000  1.765667         11.0           12.0         11.5\n",
      "8       9  -0.046667  1.793667         12.0           11.0         11.5\n",
      "3       4   1.520000  1.978667         10.0           10.0         10.0\n",
      "6       7   2.816667  1.999000          8.0            9.0          8.5\n",
      "9      10   3.003333  2.066333          7.0            8.0          7.5\n",
      "11     12   2.423333  2.069667          9.0            7.0          8.0\n",
      "1       2   3.643333  2.199000          5.0            6.0          5.5\n",
      "4       5   3.126667  2.244000          6.0            5.0          5.5\n",
      "0       1   6.615000  2.757250          3.0            4.0          3.5\n",
      "7       8   8.463333  2.869000          2.0            3.0          2.5\n",
      "10     11   4.433333  3.114333          4.0            2.0          3.0\n",
      "2       3  10.020000  3.531667          1.0            1.0          1.0\n"
     ]
    }
   ],
   "source": [
    "## 수익/손실종목비로 소팅\n",
    "print(mean_df.sort_values('수익/손실종목비'))"
   ]
  },
  {
   "cell_type": "code",
   "execution_count": 169,
   "metadata": {},
   "outputs": [
    {
     "name": "stdout",
     "output_type": "stream",
     "text": [
      "0       7.06\n",
      "1      17.92\n",
      "2      28.24\n",
      "3      28.20\n",
      "4      34.06\n",
      "5      39.10\n",
      "6      42.82\n",
      "7      53.39\n",
      "8      56.11\n",
      "9      59.31\n",
      "10     73.07\n",
      "11     75.17\n",
      "12     80.54\n",
      "13     78.17\n",
      "14     85.51\n",
      "15     90.40\n",
      "16     97.24\n",
      "17     91.21\n",
      "18     93.29\n",
      "19     96.74\n",
      "20     95.79\n",
      "21     98.59\n",
      "22    101.93\n",
      "23    108.44\n",
      "24    117.67\n",
      "25    120.11\n",
      "26    132.51\n",
      "27    132.22\n",
      "28    128.90\n",
      "29    130.19\n",
      "30    132.84\n",
      "31    144.21\n",
      "32    142.30\n",
      "33    145.31\n",
      "34    141.51\n",
      "35    140.17\n",
      "36    144.97\n",
      "Name: 수익률, dtype: float64\n",
      "0       7.06\n",
      "1      17.92\n",
      "2      28.24\n",
      "3      28.20\n",
      "4      34.06\n",
      "5      34.06\n",
      "6      37.78\n",
      "7      48.35\n",
      "8      51.07\n",
      "9      54.27\n",
      "10     68.03\n",
      "11     70.13\n",
      "12     75.50\n",
      "13     73.13\n",
      "14     80.47\n",
      "15     85.36\n",
      "16     92.20\n",
      "17     92.20\n",
      "18     94.28\n",
      "19     97.73\n",
      "20     96.78\n",
      "21     99.58\n",
      "22    102.92\n",
      "23    109.43\n",
      "24    118.66\n",
      "25    121.10\n",
      "26    133.50\n",
      "27    133.21\n",
      "28    129.89\n",
      "29    129.89\n",
      "30    132.54\n",
      "31    143.91\n",
      "32    142.00\n",
      "33    145.01\n",
      "34    141.21\n",
      "35    139.87\n",
      "36    144.67\n",
      "Name: 수익률, dtype: float64\n"
     ]
    }
   ],
   "source": [
    "## 토탈 스코어가 가장 좋지 않은 월을 투자하지 않는다 가정하고 백테스팅\n",
    "\n",
    "temp = monthly_profit[['수익률', 'Month']]\n",
    "temp_2 = temp.where(temp['Month'] != 6, 0)\n",
    "\n",
    "## 전월 투자\n",
    "print(monthly_profit['수익률'].cumsum())\n",
    "\n",
    "## 6월빼고 투자\n",
    "print(temp_2['수익률'].cumsum())"
   ]
  },
  {
   "cell_type": "code",
   "execution_count": null,
   "metadata": {},
   "outputs": [],
   "source": []
  }
 ],
 "metadata": {
  "kernelspec": {
   "display_name": "Python 3",
   "language": "python",
   "name": "python3"
  },
  "language_info": {
   "codemirror_mode": {
    "name": "ipython",
    "version": 3
   },
   "file_extension": ".py",
   "mimetype": "text/x-python",
   "name": "python",
   "nbconvert_exporter": "python",
   "pygments_lexer": "ipython3",
   "version": "3.7.3"
  }
 },
 "nbformat": 4,
 "nbformat_minor": 2
}
