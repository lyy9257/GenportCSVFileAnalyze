{
 "cells": [
  {
   "cell_type": "code",
   "execution_count": 1,
   "metadata": {},
   "outputs": [],
   "source": [
    "# 매매로그를 이용하여 VaR과 ES를 구해본다.\n",
    "# 작성자의 포트폴리오 일일수익률을 기준으로 작성하여 포트폴리오 별로 출력값은 달리 나올수 있음.\n",
    "\n",
    "'''\n",
    "참고 문헌 및 글\n",
    "\n",
    "- Value At Risk -\n",
    "https://datascienceschool.net/view-notebook/dd6a7633d69f401bb00409b9ae8806e8/\n",
    "https://m.blog.naver.com/PostView.nhn?blogId=chansoookim&logNo=220781170848&proxyReferer=https%3A%2F%2Fwww.google.com%2F\n",
    "\n",
    "- Expected ShortFall -\n",
    "https://quantdare.com/value-at-risk-or-expected-shortfall/\n",
    "https://s3.amazonaws.com/assets.datacamp.com/production/course_5612/slides/chapter4.pdf\n",
    "'''\n",
    "\n",
    "## 패키지 호출\n",
    "## Data manipulation\n",
    "import numpy as np\n",
    "import pandas as pd\n",
    "\n",
    "## Graph\n",
    "import matplotlib\n",
    "import matplotlib.pyplot as plt\n",
    "\n",
    "## Tabular data\n",
    "from tabulate import tabulate"
   ]
  },
  {
   "cell_type": "code",
   "execution_count": 2,
   "metadata": {},
   "outputs": [],
   "source": [
    "## 수익률 파일 호출\n",
    "## 총자산 및 남은 현금 Columns는 필요성이 느껴지지 않아 Drop하였음.\n",
    "\n",
    "## 데이터 호출 및 불필요 데이터 삭제\n",
    "daily_profit = pd.read_csv('Test_CSV/913695/trade_history_daily_913695.csv')\n",
    "daily_profit = daily_profit.drop([\"총자산\", \"남은 현금\"], axis=1)\n",
    "\n",
    "## 2017년 데이터 추출\n",
    "daily_2017 = daily_profit[0:243]\n",
    "\n",
    "## 2018년 Data\n",
    "daily_2018 = daily_profit[244:487]\n",
    "\n",
    "## 2019년 Data\n",
    "daily_2019 = daily_profit[487:733]\n",
    "\n",
    "## 2017~2019년 Data\n",
    "daily_Tot = daily_profit[:733]"
   ]
  },
  {
   "cell_type": "code",
   "execution_count": 3,
   "metadata": {},
   "outputs": [
    {
     "data": {
      "image/png": "[encoded data removed]",
      "text/plain": [
       "<Figure size 432x288 with 1 Axes>"
      ]
     },
     "metadata": {
      "needs_background": "light"
     },
     "output_type": "display_data"
    }
   ],
   "source": [
    "## 2017년의 데이터를 이용해 Histogram Graph 작도\n",
    "plt.hist(daily_2017[\"일일수익률\"][0:243], bins = 50)\n",
    "plt.xlabel(\"reuturns\")\n",
    "plt.ylabel(\"frequency\")\n",
    "plt.grid(True)\n",
    "\n",
    "plt.show()"
   ]
  },
  {
   "cell_type": "code",
   "execution_count": 4,
   "metadata": {},
   "outputs": [
    {
     "name": "stdout",
     "output_type": "stream",
     "text": [
      "수익확률_2017       VaR\n",
      "---------------  ------\n",
      "1%               3.0132\n",
      "5%               2.03\n",
      "10%              1.73\n",
      "50%              0.27\n",
      "\n",
      "\n",
      "손실확률_2017        VaR\n",
      "---------------  -------\n",
      "10%              -1.062\n",
      "5%               -1.448\n",
      "1%               -2.5174\n"
     ]
    },
    {
     "name": "stderr",
     "output_type": "stream",
     "text": [
      "C:\\Users\\82104\\Anaconda3\\lib\\site-packages\\ipykernel_launcher.py:14: SettingWithCopyWarning: \n",
      "A value is trying to be set on a copy of a slice from a DataFrame\n",
      "\n",
      "See the caveats in the documentation: http://pandas.pydata.org/pandas-docs/stable/user_guide/indexing.html#returning-a-view-versus-a-copy\n",
      "  \n"
     ]
    }
   ],
   "source": [
    "## 2017년 데이터를 이용해 VAR을 구해보자.\n",
    "\n",
    "'''\n",
    "VaR(Value At Risk)\n",
    "특정 금융자산 포트폴리오의 손실위험을 측정하기 위해\n",
    "널리 이용되는 위험 측정수단으로서 \n",
    "특정 포트폴리오가 일정기간 동안 보여준 변동률을 고려할 때 \n",
    "향후 발생할 수도 있는 최대손실 가능금액 (Worst Expected Loss)과 확률을 나타낸다.\n",
    "\n",
    "이 노트북에서는 과거 데이터를 이용하여 VaR을 산출하였다.(역사적 시뮬레이션)\n",
    "'''\n",
    "\n",
    "## 데이터 정렬\n",
    "daily_2017.sort_values('일일수익률', inplace = True, ascending = True)\n",
    "\n",
    "## 상위값 확인\n",
    "VaR_1_2017 = daily_2017[\"일일수익률\"].quantile(0.99)\n",
    "VaR_5_2017 = daily_2017[\"일일수익률\"].quantile(0.95)\n",
    "VaR_10_2017 = daily_2017[\"일일수익률\"].quantile(0.9)\n",
    "VaR_50_2017 = daily_2017[\"일일수익률\"].quantile(0.5)\n",
    "\n",
    "## 하위값 확인 \n",
    "VaR_90_2017 = daily_2017[\"일일수익률\"].quantile(0.1)\n",
    "VaR_95_2017 = daily_2017[\"일일수익률\"].quantile(0.05)\n",
    "VaR_99_2017 = daily_2017[\"일일수익률\"].quantile(0.01)\n",
    "\n",
    "## 테이블로 출력\n",
    "## VaR%만큼의 수익 or 손실이 발생할 확률은 X%이다.\n",
    "print(tabulate([[\"1%\", VaR_1_2017], [\"5%\", VaR_5_2017], [\"10%\", VaR_10_2017], [\"50%\", VaR_50_2017]], headers = [\"수익확률_2017\", \"VaR\"]))\n",
    "print(\"\\n\")\n",
    "print(tabulate([[\"10%\", VaR_90_2017], [\"5%\", VaR_95_2017], [\"1%\", VaR_99_2017]], headers = [\"손실확률_2017\", \"VaR\"]))"
   ]
  },
  {
   "cell_type": "code",
   "execution_count": 5,
   "metadata": {},
   "outputs": [
    {
     "name": "stdout",
     "output_type": "stream",
     "text": [
      "백분위 비율_2018       VaR\n",
      "------------------  ------\n",
      "1%                  3.7058\n",
      "5%                  2.098\n",
      "10%                 1.694\n",
      "50%                 0.13\n",
      "\n",
      "\n",
      "백분위 비율_2018        VaR\n",
      "------------------  -------\n",
      "90%                 -1.11\n",
      "95%                 -1.706\n",
      "99%                 -3.0088\n"
     ]
    },
    {
     "name": "stderr",
     "output_type": "stream",
     "text": [
      "C:\\Users\\82104\\Anaconda3\\lib\\site-packages\\ipykernel_launcher.py:4: SettingWithCopyWarning: \n",
      "A value is trying to be set on a copy of a slice from a DataFrame\n",
      "\n",
      "See the caveats in the documentation: http://pandas.pydata.org/pandas-docs/stable/user_guide/indexing.html#returning-a-view-versus-a-copy\n",
      "  after removing the cwd from sys.path.\n"
     ]
    }
   ],
   "source": [
    "## 2018년\n",
    "\n",
    "## 데이터 정렬\n",
    "daily_2018.sort_values('일일수익률', inplace = True, ascending = True)\n",
    "\n",
    "## 상위값 확인\n",
    "VaR_1_2018 = daily_2018[\"일일수익률\"].quantile(0.99)\n",
    "VaR_5_2018 = daily_2018[\"일일수익률\"].quantile(0.95)\n",
    "VaR_10_2018 = daily_2018[\"일일수익률\"].quantile(0.9)\n",
    "VaR_50_2018 = daily_2018[\"일일수익률\"].quantile(0.5)\n",
    "\n",
    "## 하위값 확인 \n",
    "VaR_90_2018 = daily_2018[\"일일수익률\"].quantile(0.1)\n",
    "VaR_95_2018 = daily_2018[\"일일수익률\"].quantile(0.05)\n",
    "VaR_99_2018 = daily_2018[\"일일수익률\"].quantile(0.01)\n",
    "\n",
    "## 테이블로 출력\n",
    "print(tabulate([[\"1%\", VaR_1_2018], [\"5%\", VaR_5_2018], [\"10%\", VaR_10_2018], [\"50%\", VaR_50_2018]], headers = [\"백분위 비율_2018\", \"VaR\"]))\n",
    "print(\"\\n\")\n",
    "print(tabulate([[\"90%\", VaR_90_2018], [\"95%\", VaR_95_2018], [\"99%\", VaR_99_2018]], headers = [\"백분위 비율_2018\", \"VaR\"]))"
   ]
  },
  {
   "cell_type": "code",
   "execution_count": 6,
   "metadata": {},
   "outputs": [
    {
     "name": "stdout",
     "output_type": "stream",
     "text": [
      "백분위 비율_2019       VaR\n",
      "------------------  ------\n",
      "1%                  3.431\n",
      "5%                  2.5275\n",
      "10%                 1.88\n",
      "50%                 0.275\n",
      "\n",
      "\n",
      "백분위 비율_2019        VaR\n",
      "------------------  -------\n",
      "90%                 -1.35\n",
      "95%                 -1.8275\n",
      "99%                 -2.991\n"
     ]
    },
    {
     "name": "stderr",
     "output_type": "stream",
     "text": [
      "C:\\Users\\82104\\Anaconda3\\lib\\site-packages\\ipykernel_launcher.py:4: SettingWithCopyWarning: \n",
      "A value is trying to be set on a copy of a slice from a DataFrame\n",
      "\n",
      "See the caveats in the documentation: http://pandas.pydata.org/pandas-docs/stable/user_guide/indexing.html#returning-a-view-versus-a-copy\n",
      "  after removing the cwd from sys.path.\n"
     ]
    }
   ],
   "source": [
    "## 2019년\n",
    "\n",
    "## 데이터 정렬\n",
    "daily_2019.sort_values('일일수익률', inplace = True, ascending = True)\n",
    "\n",
    "## 상위값 확인\n",
    "VaR_1_2019 = daily_2019[\"일일수익률\"].quantile(0.99)\n",
    "VaR_5_2019 = daily_2019[\"일일수익률\"].quantile(0.95)\n",
    "VaR_10_2019 = daily_2019[\"일일수익률\"].quantile(0.9)\n",
    "VaR_50_2019 = daily_2019[\"일일수익률\"].quantile(0.5)\n",
    "\n",
    "## 하위값 확인 \n",
    "VaR_90_2019 = daily_2019[\"일일수익률\"].quantile(0.1)\n",
    "VaR_95_2019 = daily_2019[\"일일수익률\"].quantile(0.05)\n",
    "VaR_99_2019 = daily_2019[\"일일수익률\"].quantile(0.01)\n",
    "\n",
    "## 테이블로 출력\n",
    "print(tabulate([[\"1%\", VaR_1_2019], [\"5%\", VaR_5_2019], [\"10%\", VaR_10_2019], [\"50%\", VaR_50_2019]], headers = [\"백분위 비율_2019\", \"VaR\"]))\n",
    "print(\"\\n\")\n",
    "print(tabulate([[\"90%\", VaR_90_2019], [\"95%\", VaR_95_2019], [\"99%\", VaR_99_2019]], headers = [\"백분위 비율_2019\", \"VaR\"]))"
   ]
  },
  {
   "cell_type": "code",
   "execution_count": 7,
   "metadata": {},
   "outputs": [
    {
     "name": "stdout",
     "output_type": "stream",
     "text": [
      "1.13531 1.21386 1.31588\n"
     ]
    }
   ],
   "source": [
    "## 연도별 표준편차 확인\n",
    "std_2017 = round(daily_2017[\"일일수익률\"].std(), 5)\n",
    "std_2018 = round(daily_2018[\"일일수익률\"].std(), 5)\n",
    "std_2019 = round(daily_2019[\"일일수익률\"].std(), 5)\n",
    "\n",
    "print(std_2017, std_2018, std_2019)"
   ]
  },
  {
   "cell_type": "code",
   "execution_count": 8,
   "metadata": {},
   "outputs": [
    {
     "data": {
      "image/png": "[encoded data removed]",
      "text/plain": [
       "<Figure size 432x288 with 1 Axes>"
      ]
     },
     "metadata": {
      "needs_background": "light"
     },
     "output_type": "display_data"
    }
   ],
   "source": [
    "## VaR 분포를 그래프를 이용하여 시각적으로 확인해본다.\n",
    "percs = list(np.arange(0.0, 10.1, 0.1))\n",
    "\n",
    "var_2017 = np.percentile(daily_2017[\"일일수익률\"], percs)\n",
    "var_2018 = np.percentile(daily_2018[\"일일수익률\"], percs)\n",
    "var_2019 = np.percentile(daily_2019[\"일일수익률\"], percs)\n",
    "var_Tot = np.percentile(daily_Tot[\"일일수익률\"], percs)\n",
    "\n",
    "plt.plot(percs, var_2017, 'r', lw=1.5, label='2017')\n",
    "plt.plot(percs, var_2018, 'g', lw=1.5, label='2018')\n",
    "plt.plot(percs, var_2019, 'b', lw=1.5, label='2019')\n",
    "plt.plot(percs, var_Tot, 'Gray', lw=3, label='ToT')\n",
    "\n",
    "plt.legend(loc=4)\n",
    "plt.xlabel('100 - confidence level [%]')\n",
    "plt.ylabel('Value-at-Risk')\n",
    "plt.grid(True)\n",
    "plt.ylim(ymax=0.0)\n",
    "\n",
    "plt.show()\n",
    "\n",
    "## 그래프를 확인 결과 극값에서의 손실이 제일 큼을 확인할 수 있다.(Black Swan)\n",
    "## 2%대에서 급격히 손실이 커진다.\n",
    "## 연도가 지나갈수록 VaR값이 커진다.\n",
    "## 3년합은 중간값정도에 해당되나 극값에서 급격히 커짐. 2019년의 VaR값들에 의해 영향을 받은것으로 추정됨."
   ]
  },
  {
   "cell_type": "code",
   "execution_count": 9,
   "metadata": {},
   "outputs": [
    {
     "name": "stdout",
     "output_type": "stream",
     "text": [
      "-3.183\n",
      "-3.377\n",
      "-3.84\n",
      "\n",
      "\n",
      "-2.073\n",
      "-2.446\n",
      "-2.541\n",
      "\n",
      "\n",
      "-1.659\n",
      "-1.954\n",
      "-2.072\n"
     ]
    }
   ],
   "source": [
    "## 연도별 Expected_ShortFall을 구해보자. (ES : VaR 에 들어가있는 손실값의 평균)\n",
    "\n",
    "## 1%의 확률로 일어날 수 있는 포트폴리오 손실값 전체의 평균 (VaR 1%)\n",
    "print(round(daily_2017[\"일일수익률\"][daily_2017[\"일일수익률\"] <= VaR_99_2017].mean(),3))\n",
    "print(round(daily_2018[\"일일수익률\"][daily_2018[\"일일수익률\"] <= VaR_99_2018].mean(),3))\n",
    "print(round(daily_2019[\"일일수익률\"][daily_2019[\"일일수익률\"] <= VaR_99_2019].mean(),3))\n",
    "\n",
    "## 5%의 확률로 일어날 수 있는 포트폴리오 손실값 전체의 평균 (VaR 5%)\n",
    "print(round(daily_2017[\"일일수익률\"][daily_2017[\"일일수익률\"] <= VaR_95_2017].mean(),3))\n",
    "print(round(daily_2018[\"일일수익률\"][daily_2018[\"일일수익률\"] <= VaR_95_2018].mean(),3))\n",
    "print(round(daily_2019[\"일일수익률\"][daily_2019[\"일일수익률\"] <= VaR_95_2019].mean(),3))\n",
    "\n",
    "## 10%의 확률로 일어날 수 있는 포트폴리오 손실값 전체의 평균 (VaR 10%)\n",
    "print(round(daily_2017[\"일일수익률\"][daily_2017[\"일일수익률\"] <= VaR_90_2017].mean(),3))\n",
    "print(round(daily_2018[\"일일수익률\"][daily_2018[\"일일수익률\"] <= VaR_90_2018].mean(),3))\n",
    "print(round(daily_2019[\"일일수익률\"][daily_2019[\"일일수익률\"] <= VaR_90_2019].mean(),3))"
   ]
  },
  {
   "cell_type": "code",
   "execution_count": 10,
   "metadata": {},
   "outputs": [
    {
     "data": {
      "image/png": "[encoded data removed]",
      "text/plain": [
       "<Figure size 432x288 with 1 Axes>"
      ]
     },
     "metadata": {
      "needs_background": "light"
     },
     "output_type": "display_data"
    }
   ],
   "source": [
    "## ES 분포를 그래프를 이용하여 시각적으로 확인해본다.\n",
    "\n",
    "## ES 구하는 함수\n",
    "def get_ES(percent_list, profit_df):\n",
    "    temp = []\n",
    "    \n",
    "    for i in percent_list:\n",
    "        var_temp =  np.percentile(profit_df[\"일일수익률\"], i)\n",
    "        es_temp = profit_df[\"일일수익률\"][profit_df[\"일일수익률\"] <= var_temp].mean()\n",
    "        temp.append(es_temp)\n",
    "        \n",
    "    return  temp\n",
    "\n",
    "\n",
    "## ES 산출용 list 산출 \n",
    "percs = list(np.arange(0.0, 10.1, 0.5))\n",
    "    \n",
    "## ES값 산출    \n",
    "es_2017 = get_ES(percs, daily_2017)\n",
    "es_2018 = get_ES(percs, daily_2018)\n",
    "es_2019 = get_ES(percs, daily_2019)\n",
    "es_Tot = get_ES(percs, daily_Tot)\n",
    "\n",
    "## 그래프 작도\n",
    "plt.plot(percs, es_2017, 'r', lw=1.5, label='2017')\n",
    "plt.plot(percs, es_2018, 'g', lw=1.5, label='2018')\n",
    "plt.plot(percs, es_2019, 'b', lw=1.5, label='2019')\n",
    "plt.plot(percs, es_Tot, 'Gray', lw=3, label='Tot')\n",
    "\n",
    "plt.legend(loc=4)\n",
    "plt.xlabel('100 - confidence level [%]')\n",
    "plt.ylabel('Excepted Shortfall')\n",
    "plt.grid(True)\n",
    "plt.ylim(ymax=0.0)\n",
    "\n",
    "plt.show()\n",
    "\n",
    "## 그래프를 확인해보니 4%대부터 손실이 커진다.\n",
    "## 연도가 지나갈수록 ES값도 VaR에 비례하여 커진다.\n",
    "## 3년합은 중간값정도에 해당되나 2%대에서 급격히 커짐. 2019년의 VaR값들에 의해 영향을 받은것으로 추정됨."
   ]
  },
  {
   "cell_type": "code",
   "execution_count": 11,
   "metadata": {},
   "outputs": [],
   "source": [
    "## 2020.02.22.\n",
    "## 이 값들을 이용해 포트폴리오의 위험성을 어떻게 평가할 것인가? (★★)\n",
    "## 여러 포트폴리오의 값을 이 리스크 지표들을 이용하여 조합을 어떻게 짤 수 있을까? (★★)\n",
    "## 극값에 해당되는 손실값을 줄일 수 있는 방법은 없을까? (★★★)"
   ]
  }
 ],
 "metadata": {
  "kernelspec": {
   "display_name": "Python 3",
   "language": "python",
   "name": "python3"
  },
  "language_info": {
   "codemirror_mode": {
    "name": "ipython",
    "version": 3
   },
   "file_extension": ".py",
   "mimetype": "text/x-python",
   "name": "python",
   "nbconvert_exporter": "python",
   "pygments_lexer": "ipython3",
   "version": "3.7.3"
  }
 },
 "nbformat": 4,
 "nbformat_minor": 2
}
