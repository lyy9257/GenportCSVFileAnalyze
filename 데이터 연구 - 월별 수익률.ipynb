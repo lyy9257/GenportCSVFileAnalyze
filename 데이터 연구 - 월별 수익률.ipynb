{
 "cells": [
  {
   "cell_type": "code",
   "execution_count": 7,
   "metadata": {},
   "outputs": [],
   "source": [
    "import numpy as np\n",
    "import pandas as pd"
   ]
  },
  {
   "cell_type": "code",
   "execution_count": 8,
   "metadata": {},
   "outputs": [
    {
     "name": "stdout",
     "output_type": "stream",
     "text": [
      "ㅡㅡㅡㅡㅡㅡㅡㅡㅡㅡㅡㅡㅡㅡㅡㅡㅡㅡㅡㅡㅡㅡㅡㅡㅡㅡㅡㅡㅡㅡㅡㅡㅡㅡㅡㅡㅡㅡㅡㅡㅡㅡㅡㅡㅡㅡㅡㅡㅡㅡㅡㅡㅡㅡㅡㅡㅡㅡㅡㅡㅡㅡㅡ\n",
      "       날짜    수익률  일평균수익률     평균보유일  수익종목  손실종목      평균수익      평균손실   월 단리수익  \\\n",
      "0  201701  13.90    0.66  1.357143    50    20  4.655123 -4.419458  1390448   \n",
      "1  201702  -0.21   -0.00  1.479452    40    31  5.005697 -5.308481   -24140   \n",
      "2  201703  11.20    0.49  1.283951    54    27  5.488477 -6.956474  1273202   \n",
      "3  201704   5.93    0.30  1.472973    48    26  4.800580 -6.196655   749500   \n",
      "4  201705  12.33    0.62  1.569231    38    27  5.423382 -2.683642  1650555   \n",
      "\n",
      "    월 단리누적    월 복리수익  복리기준누적(총자산)      총손익  \n",
      "0  1390448  11390448     11390448  1390448  \n",
      "1  1366308    -24140     11366308  1366308  \n",
      "2  2639510   1273202     12639510  2639510  \n",
      "3  3389010    749500     13389010  3389010  \n",
      "4  5039565   1650555     15039565  5039565  \n",
      "ㅡㅡㅡㅡㅡㅡㅡㅡㅡㅡㅡㅡㅡㅡㅡㅡㅡㅡㅡㅡㅡㅡㅡㅡㅡㅡㅡㅡㅡㅡㅡㅡㅡㅡㅡㅡㅡㅡㅡㅡㅡㅡㅡㅡㅡㅡㅡㅡㅡㅡㅡㅡㅡㅡㅡㅡㅡㅡㅡㅡㅡㅡㅡ\n",
      "        날짜    수익률  일평균수익률     평균보유일  수익종목  손실종목      평균수익      평균손실    월 단리수익  \\\n",
      "33  201910   6.18    0.29  1.460526    41    33  5.553093 -4.500446   5095189   \n",
      "34  201911  -4.32   -0.20  1.420290    32    35  4.991238 -5.092858  -3783049   \n",
      "35  201912  -0.72   -0.03  1.486842    36    40  5.129195 -5.054840   -601932   \n",
      "36  202001  17.06    0.80  1.303571    34    21  6.952898 -2.952335  14194532   \n",
      "37  202002   3.51    0.87  0.500000     7     1  5.726543 -1.388889   3416943   \n",
      "\n",
      "      월 단리누적    월 복리수익  복리기준누적(총자산)       총손익  \n",
      "33  77570288   5095189     87570288  77570288  \n",
      "34  73787239  -3783049     83787239  73787239  \n",
      "35  73185307   -601932     83185307  73185307  \n",
      "36  87379839  14194532     97379839  87379839  \n",
      "37  90796782   3416943    100796782  90796782  \n",
      "ㅡㅡㅡㅡㅡㅡㅡㅡㅡㅡㅡㅡㅡㅡㅡㅡㅡㅡㅡㅡㅡㅡㅡㅡㅡㅡㅡㅡㅡㅡㅡㅡㅡㅡㅡㅡㅡㅡㅡㅡㅡㅡㅡㅡㅡㅡㅡㅡㅡㅡㅡㅡㅡㅡㅡㅡㅡㅡㅡㅡㅡㅡㅡ\n"
     ]
    }
   ],
   "source": [
    "## 수익률 파일 호출\n",
    "\n",
    "monthly_profit = pd.read_csv('Test_CSV/913695/monthly_stat_913695.csv')\n",
    "print('ㅡㅡㅡㅡㅡㅡㅡㅡㅡㅡㅡㅡㅡㅡㅡㅡㅡㅡㅡㅡㅡㅡㅡㅡㅡㅡㅡㅡㅡㅡㅡㅡㅡㅡㅡㅡㅡㅡㅡㅡㅡㅡㅡㅡㅡㅡㅡㅡㅡㅡㅡㅡㅡㅡㅡㅡㅡㅡㅡㅡㅡㅡㅡ')\n",
    "print(monthly_profit.head())\n",
    "print('ㅡㅡㅡㅡㅡㅡㅡㅡㅡㅡㅡㅡㅡㅡㅡㅡㅡㅡㅡㅡㅡㅡㅡㅡㅡㅡㅡㅡㅡㅡㅡㅡㅡㅡㅡㅡㅡㅡㅡㅡㅡㅡㅡㅡㅡㅡㅡㅡㅡㅡㅡㅡㅡㅡㅡㅡㅡㅡㅡㅡㅡㅡㅡ')\n",
    "print(monthly_profit.tail())\n",
    "print('ㅡㅡㅡㅡㅡㅡㅡㅡㅡㅡㅡㅡㅡㅡㅡㅡㅡㅡㅡㅡㅡㅡㅡㅡㅡㅡㅡㅡㅡㅡㅡㅡㅡㅡㅡㅡㅡㅡㅡㅡㅡㅡㅡㅡㅡㅡㅡㅡㅡㅡㅡㅡㅡㅡㅡㅡㅡㅡㅡㅡㅡㅡㅡ')"
   ]
  },
  {
   "cell_type": "code",
   "execution_count": 9,
   "metadata": {},
   "outputs": [
    {
     "name": "stdout",
     "output_type": "stream",
     "text": [
      "월 수익률 평균 :  6.411\n",
      "월 수익률 표준편차 :  5.584\n",
      "최대 수익 - 최대 손실 편차 :  21.38\n"
     ]
    }
   ],
   "source": [
    "## 월별 수익률 평균 및 표준편차, 최대 - 최소 수익률 편차 구하기\n",
    "\n",
    "avg_month_profit = round(monthly_profit['수익률'].mean(), 3)\n",
    "std_month_profit = round(monthly_profit['수익률'].std(), 3)\n",
    "max_min_gap_month_profit = monthly_profit['수익률'].max() - monthly_profit['수익률'].min()\n",
    "\n",
    "print('월 수익률 평균 : ', avg_month_profit)\n",
    "print('월 수익률 표준편차 : ', std_month_profit)\n",
    "print('최대 수익 - 최대 손실 편차 : ', max_min_gap_month_profit)"
   ]
  },
  {
   "cell_type": "code",
   "execution_count": 10,
   "metadata": {},
   "outputs": [
    {
     "name": "stdout",
     "output_type": "stream",
     "text": [
      "False    21\n",
      "True     17\n",
      "Name: 수익률, dtype: int64\n"
     ]
    }
   ],
   "source": [
    "## 평균 대비 수익률 비교\n",
    "## True : 평균 대비 많이 벌은 달의 수\n",
    "## False : 평균 대비 적게 벌은 달의 수\n",
    "\n",
    "count_profit_more_avg =  monthly_profit['수익률'] > avg_month_profit\n",
    "print(count_profit_more_avg.value_counts())"
   ]
  },
  {
   "cell_type": "code",
   "execution_count": 11,
   "metadata": {},
   "outputs": [
    {
     "name": "stdout",
     "output_type": "stream",
     "text": [
      "True     32\n",
      "False     6\n",
      "Name: 수익률, dtype: int64\n"
     ]
    }
   ],
   "source": [
    "## 수익 / 손실 월 횟수 카운트\n",
    "## True : 수익난 월의 횟수\n",
    "## False : 손실난 월의 횟수\n",
    "\n",
    "count_profit_more_avg =  monthly_profit['수익률'] > 0\n",
    "print(count_profit_more_avg.value_counts())"
   ]
  },
  {
   "cell_type": "code",
   "execution_count": 12,
   "metadata": {},
   "outputs": [
    {
     "data": {
      "text/plain": [
       "<Figure size 640x480 with 1 Axes>"
      ]
     },
     "metadata": {},
     "output_type": "display_data"
    }
   ],
   "source": [
    "## 수익률 그래프 시현\n",
    "\n",
    "import matplotlib\n",
    "import matplotlib.pyplot as plt\n",
    "import numpy as np\n",
    "\n",
    "labels = monthly_profit['날짜']\n",
    "means = monthly_profit['수익률']\n",
    "\n",
    "x = np.arange(len(labels))  # the label locations\n",
    "width = 0.35  # the width of the bars\n",
    "\n",
    "fig, ax = plt.subplots()\n",
    "rects1 = ax.bar(x, means, width, label='profit_month')\n",
    "\n",
    "# Add some text for labels, title and custom x-axis tick labels, etc.\n",
    "ax.set_ylabel('Monthly Profit')\n",
    "ax.set_title('profit')\n",
    "ax.set_xticks(x)\n",
    "ax.set_xticklabels(labels)\n",
    "ax.legend()\n",
    "\n",
    "for label in ax.xaxis.get_ticklabels() :\n",
    "    label.set_rotation(45)\n",
    "\n",
    "'''\n",
    "def autolabel(rects):\n",
    "    \"\"\"Attach a text label above each bar in *rects*, displaying its height.\"\"\"\n",
    "    for rect in rects:\n",
    "        height = rect.get_height()\n",
    "        ax.annotate('{}'.format(height),\n",
    "                    xy=(rect.get_x() + rect.get_width() / 2, height),\n",
    "                    xytext=(0, 3),  # 3 points vertical offset\n",
    "                    textcoords=\"offset points\",\n",
    "                    ha='center', va='bottom')\n",
    "\n",
    "autolabel(rects1)\n",
    "'''\n",
    "\n",
    "## fig.tight_layout()\n",
    "plt.show()"
   ]
  },
  {
   "cell_type": "code",
   "execution_count": 13,
   "metadata": {},
   "outputs": [
    {
     "name": "stdout",
     "output_type": "stream",
     "text": [
      "        날짜    수익률  수익/손실종목비\n",
      "0   201701  13.90     2.500\n",
      "1   201702  -0.21     1.290\n",
      "2   201703  11.20     2.000\n",
      "3   201704   5.93     1.846\n",
      "4   201705  12.33     1.407\n",
      "5   201706  12.14     3.412\n",
      "6   201707   8.16     2.087\n",
      "7   201708   1.17     1.229\n",
      "8   201709  -0.04     1.286\n",
      "9   201710  12.62     1.727\n",
      "10  201711   8.69     1.654\n",
      "11  201712   4.07     1.882\n",
      "12  201801   9.74     1.385\n",
      "13  201802   0.31     1.786\n",
      "14  201803   2.66     1.071\n",
      "15  201804   6.05     1.414\n",
      "16  201805   6.98     2.000\n",
      "17  201806  -3.36     1.241\n",
      "18  201807   9.07     1.917\n",
      "19  201808  11.80     1.433\n",
      "20  201809   4.23     1.440\n",
      "21  201810   2.53     1.579\n",
      "22  201811  14.72     2.120\n",
      "23  201812   8.42     2.056\n",
      "24  201901  14.23     2.435\n",
      "25  201902  -0.02     1.458\n",
      "26  201903  13.97     2.737\n",
      "27  201904   5.96     1.750\n",
      "28  201905   1.63     1.548\n",
      "29  201906  13.31     1.517\n",
      "30  201907   1.85     1.548\n",
      "31  201908   2.75     1.321\n",
      "32  201909   5.12     1.519\n",
      "33  201910   6.18     1.242\n",
      "34  201911  -4.32     0.914\n",
      "35  201912  -0.72     0.900\n",
      "36  202001  17.06     1.619\n",
      "37  202002   3.51     7.000\n"
     ]
    }
   ],
   "source": [
    "## 수익종목 수 / 손실종목 수 비율 확인\n",
    "\n",
    "monthly_profit['수익/손실종목비'] = (monthly_profit['수익종목']/monthly_profit['손실종목']).round(3)\n",
    "print(monthly_profit[['날짜','수익률','수익/손실종목비']])"
   ]
  },
  {
   "cell_type": "code",
   "execution_count": 14,
   "metadata": {
    "scrolled": false
   },
   "outputs": [
    {
     "data": {
      "image/png": "[encoded data removed]",
      "text/plain": [
       "<Figure size 432x288 with 1 Axes>"
      ]
     },
     "metadata": {
      "needs_background": "light"
     },
     "output_type": "display_data"
    }
   ],
   "source": [
    "## 그래프로 시현\n",
    "\n",
    "ratio = monthly_profit['수익/손실종목비']\n",
    "profit = monthly_profit['수익률']\n",
    "labels = monthly_profit['날짜']\n",
    "\n",
    "plt.plot(ratio, 'g-', label='Ratio') # 녹색 실선\n",
    "plt.plot(profit, 'r-', label='Profit') # 빨간 실선\n",
    "\n",
    "plt.legend() # 범례 그리기, loc=9 ; top center를 의미\n",
    "plt.xlabel('Time Frame(Past -> Now)')\n",
    "plt.title('Ratio - Profit')\n",
    "plt.show()"
   ]
  },
  {
   "cell_type": "code",
   "execution_count": 15,
   "metadata": {},
   "outputs": [],
   "source": [
    "# 월별 수익률 확인\n",
    "## 날짜에서 월 추출 후 월별로 묶어 수익률 출력\n",
    "monthly_profit['Month'] = monthly_profit['날짜'].astype(str).str.slice(start=4, stop=6).astype(int)\n",
    "mean_df = monthly_profit[['수익률', 'Month']].groupby(['Month'], as_index=False).mean()\n",
    "temp = monthly_profit[['수익/손실종목비', 'Month']].groupby(['Month'], as_index=False).mean()\n",
    "\n",
    "## 데이터프레임 합체 후 값 순으로 내림차순(값이 큰 순)으로 랭킹 측정\n",
    "mean_df = pd.concat([mean_df, temp.drop(columns='Month')], axis = 1, sort=True)\n",
    "mean_df['rank_profit'] = mean_df['수익률'].rank(ascending=False, method = 'first')\n",
    "mean_df['rank_HL_Ratio'] = mean_df['수익/손실종목비'].rank(ascending=False, method = 'first')\n",
    "\n",
    "## 랭킹을 더하여 스코어 확인\n",
    "mean_df['Total_Score'] = (mean_df['rank_profit'] + mean_df['rank_HL_Ratio'])/2"
   ]
  },
  {
   "cell_type": "code",
   "execution_count": 16,
   "metadata": {},
   "outputs": [
    {
     "name": "stdout",
     "output_type": "stream",
     "text": [
      "    Month        수익률  수익/손실종목비  rank_profit  rank_HL_Ratio  Total_Score\n",
      "0       1  13.732500  1.984750          1.0            3.0          2.0\n",
      "5       6   7.363333  2.056667          3.0            2.0          2.5\n",
      "2       3   9.276667  1.936000          2.0            4.0          3.0\n",
      "4       5   6.980000  1.651667          5.0            7.0          6.0\n",
      "6       7   6.360000  1.850667          7.0            5.0          6.0\n",
      "1       2   0.897500  2.883500         12.0            1.0          6.5\n",
      "3       4   5.980000  1.670000          8.0            6.0          7.0\n",
      "9      10   7.110000  1.516000          4.0           10.0          7.0\n",
      "10     11   6.363333  1.562667          6.0            9.0          7.5\n",
      "11     12   3.923333  1.612667         10.0            8.0          9.0\n",
      "7       8   5.240000  1.327667          9.0           12.0         10.5\n",
      "8       9   3.103333  1.415000         11.0           11.0         11.0\n"
     ]
    }
   ],
   "source": [
    "#출력\n",
    "print(mean_df.sort_values('Total_Score'))"
   ]
  },
  {
   "cell_type": "code",
   "execution_count": 17,
   "metadata": {},
   "outputs": [
    {
     "name": "stdout",
     "output_type": "stream",
     "text": [
      "    Month        수익률  수익/손실종목비  rank_profit  rank_HL_Ratio  Total_Score\n",
      "7       8   5.240000  1.327667          9.0           12.0         10.5\n",
      "8       9   3.103333  1.415000         11.0           11.0         11.0\n",
      "9      10   7.110000  1.516000          4.0           10.0          7.0\n",
      "10     11   6.363333  1.562667          6.0            9.0          7.5\n",
      "11     12   3.923333  1.612667         10.0            8.0          9.0\n",
      "4       5   6.980000  1.651667          5.0            7.0          6.0\n",
      "3       4   5.980000  1.670000          8.0            6.0          7.0\n",
      "6       7   6.360000  1.850667          7.0            5.0          6.0\n",
      "2       3   9.276667  1.936000          2.0            4.0          3.0\n",
      "0       1  13.732500  1.984750          1.0            3.0          2.0\n",
      "5       6   7.363333  2.056667          3.0            2.0          2.5\n",
      "1       2   0.897500  2.883500         12.0            1.0          6.5\n"
     ]
    }
   ],
   "source": [
    "# 수익/손실종목비로 소팅\n",
    "print(mean_df.sort_values('수익/손실종목비'))"
   ]
  },
  {
   "cell_type": "code",
   "execution_count": 21,
   "metadata": {},
   "outputs": [
    {
     "name": "stdout",
     "output_type": "stream",
     "text": [
      "0      1.1390\n",
      "1      2.1369\n",
      "2      3.2489\n",
      "3      4.3082\n",
      "4      5.4315\n",
      "5      6.5529\n",
      "6      7.6345\n",
      "7      8.6462\n",
      "8      9.6458\n",
      "9     10.7720\n",
      "10    11.8589\n",
      "11    12.8996\n",
      "12    13.9970\n",
      "13    15.0001\n",
      "14    16.0267\n",
      "15    17.0872\n",
      "16    18.1570\n",
      "17    19.1234\n",
      "18    20.2141\n",
      "19    21.3321\n",
      "20    22.3744\n",
      "21    23.3997\n",
      "22    24.5469\n",
      "23    25.6311\n",
      "24    26.7734\n",
      "25    27.7732\n",
      "26    28.9129\n",
      "27    29.9725\n",
      "28    30.9888\n",
      "29    32.1219\n",
      "30    33.1404\n",
      "31    34.1679\n",
      "32    35.2191\n",
      "33    36.2809\n",
      "34    37.2377\n",
      "35    38.2305\n",
      "36    39.4011\n",
      "37    40.4362\n",
      "Name: 수익률, dtype: float64\n",
      "       수익률  Month\n",
      "0    13.90    1.0\n",
      "1    13.69    3.0\n",
      "2    24.89    6.0\n",
      "3    30.82   10.0\n",
      "4    43.15   15.0\n",
      "5    43.15   15.0\n",
      "6    51.31   22.0\n",
      "7    52.48   30.0\n",
      "8    52.44   39.0\n",
      "9    65.06   49.0\n",
      "10   73.75   60.0\n",
      "11   77.82   72.0\n",
      "12   87.56   73.0\n",
      "13   87.87   75.0\n",
      "14   90.53   78.0\n",
      "15   96.58   82.0\n",
      "16  103.56   87.0\n",
      "17  103.56   87.0\n",
      "18  112.63   94.0\n",
      "19  124.43  102.0\n",
      "20  128.66  111.0\n",
      "21  131.19  121.0\n",
      "22  145.91  132.0\n",
      "23  154.33  144.0\n",
      "24  168.56  145.0\n",
      "25  168.54  147.0\n",
      "26  182.51  150.0\n",
      "27  188.47  154.0\n",
      "28  190.10  159.0\n",
      "29  190.10  159.0\n",
      "30  191.95  166.0\n",
      "31  194.70  174.0\n",
      "32  199.82  183.0\n",
      "33  206.00  193.0\n",
      "34  201.68  204.0\n",
      "35  200.96  216.0\n",
      "36  218.02  217.0\n",
      "37  221.53  219.0\n"
     ]
    }
   ],
   "source": [
    "# 토탈 스코어가 가장 좋지 않은 월을 투자하지 않는다 가정하고 백테스팅\n",
    "\n",
    "temp = monthly_profit[['수익률', 'Month']]\n",
    "temp_2 = temp.where(temp['Month'] != 6, 0)\n",
    "\n",
    "# 전월 투자\n",
    "print((monthly_profit['수익률']/100+1).cumsum())\n",
    "\n",
    "# 6월빼고 투자\n",
    "print(temp_2.where((temp_2['수익률']/100+1) !=6, 0).cumsum())"
   ]
  },
  {
   "cell_type": "code",
   "execution_count": null,
   "metadata": {},
   "outputs": [],
   "source": []
  }
 ],
 "metadata": {
  "kernelspec": {
   "display_name": "Python 3",
   "language": "python",
   "name": "python3"
  },
  "language_info": {
   "codemirror_mode": {
    "name": "ipython",
    "version": 3
   },
   "file_extension": ".py",
   "mimetype": "text/x-python",
   "name": "python",
   "nbconvert_exporter": "python",
   "pygments_lexer": "ipython3",
   "version": "3.7.3"
  }
 },
 "nbformat": 4,
 "nbformat_minor": 2
}
