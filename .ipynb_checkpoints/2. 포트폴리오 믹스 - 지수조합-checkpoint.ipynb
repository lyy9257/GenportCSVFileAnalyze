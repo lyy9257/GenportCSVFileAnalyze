{
 "cells": [
  {
   "cell_type": "code",
   "execution_count": 7,
   "metadata": {},
   "outputs": [],
   "source": [
    "# 포트폴리오 파일을 이용해 가장 최적의 투자 날짜조합을 찾는다.\n",
    "# 필요한 패키지 호출\n",
    "\n",
    "import numpy as np\n",
    "import pandas as pd\n",
    "import pandas_datareader as wb\n",
    "\n",
    "import datetime"
   ]
  },
  {
   "cell_type": "code",
   "execution_count": 8,
   "metadata": {},
   "outputs": [],
   "source": [
    "# 포트폴리오 불러오기\n",
    "\n",
    "portfolio_1 = pd.read_csv('Test_CSV/913695/trade_history_daily_913695.csv')\n",
    "portfolio_2 = pd.read_csv('Test_CSV/966955/trade_history_daily_966955.csv')"
   ]
  },
  {
   "cell_type": "code",
   "execution_count": 9,
   "metadata": {},
   "outputs": [
    {
     "name": "stdout",
     "output_type": "stream",
     "text": [
      "            날짜  요일  수익률_913695  수익률_966955\n",
      "0   2017-01-02   0        1.85        1.67\n",
      "1   2017-01-03   1        0.22        0.94\n",
      "2   2017-01-04   2        0.29       -0.56\n",
      "3   2017-01-05   3        1.95        0.86\n",
      "4   2017-01-06   4        0.08        0.39\n",
      "..         ...  ..         ...         ...\n",
      "752 2020-01-31   4        0.00        0.00\n",
      "753 2020-02-03   0        0.00        0.00\n",
      "754 2020-02-04   1        0.00        0.00\n",
      "755 2020-02-05   2        2.68        1.43\n",
      "756 2020-02-06   3        0.81        1.30\n",
      "\n",
      "[757 rows x 4 columns]\n"
     ]
    }
   ],
   "source": [
    "# 요일 산출후 요일별 수익률 모아서 확인하기\n",
    "\n",
    "merge_df = pd.DataFrame()\n",
    "\n",
    "merge_df['날짜'] = portfolio_1['날짜'].apply(lambda x: pd.to_datetime(str(x), format='%Y%m%d'))\n",
    "merge_df['요일'] = merge_df['날짜'].apply(lambda x: pd.Timestamp(x).dayofweek)\n",
    "merge_df['수익률_913695'] = portfolio_1['일일수익률']\n",
    "merge_df['수익률_966955'] = portfolio_2['일일수익률']\n",
    "\n",
    "print(merge_df)"
   ]
  },
  {
   "cell_type": "code",
   "execution_count": 14,
   "metadata": {},
   "outputs": [
    {
     "name": "stdout",
     "output_type": "stream",
     "text": [
      "                 High        Low       Open      Close    Volume  Adj Close\n",
      "Date                                                                       \n",
      "2017-01-03  2044.0699  2028.4700  2034.3101  2043.9700  268100.0  2043.9700\n",
      "2017-01-04  2046.2900  2040.6100  2046.2900  2045.6400  371500.0  2045.6400\n",
      "2017-01-05  2046.5000  2039.4900  2045.5200  2041.9500  541300.0  2041.9500\n",
      "2017-01-06  2051.8401  2045.6600  2048.1101  2049.1201  455400.0  2049.1201\n",
      "2017-01-09  2053.1799  2046.4700  2053.1799  2048.7800  398300.0  2048.7800\n",
      "...               ...        ...        ...        ...       ...        ...\n",
      "2020-02-03  2126.7300  2082.7400  2086.6101  2118.8799  836700.0  2118.8799\n",
      "2020-02-04  2162.3201  2120.5300  2121.2200  2157.8999  624600.0  2157.8999\n",
      "2020-02-05  2181.5200  2154.8799  2177.2600  2165.6299  574400.0  2165.6299\n",
      "2020-02-06  2229.9900  2182.2500  2184.7700  2227.9399  695000.0  2227.9399\n",
      "2020-02-07  2223.9199  2198.1399  2221.4900  2211.9500  800200.0  2211.9500\n",
      "\n",
      "[749 rows x 6 columns]\n",
      "Close Median 2210.889892578125\n",
      "count     749.0000\n",
      "mean     2244.3322\n",
      "std       165.7208\n",
      "min      1909.7100\n",
      "25%      2094.3601\n",
      "50%      2210.8899\n",
      "75%      2391.9500\n",
      "max      2598.1899\n",
      "Name: Close, dtype: float64\n",
      "             High     Low    Open   Close  Volume  Adj Close\n",
      "High       1.0000  0.9983  0.9987  0.9981 -0.0644     0.9981\n",
      "Low        0.9983  1.0000  0.9982  0.9988 -0.0664     0.9988\n",
      "Open       0.9987  0.9982  1.0000  0.9962 -0.0627     0.9962\n",
      "Close      0.9981  0.9988  0.9962  1.0000 -0.0678     1.0000\n",
      "Volume    -0.0644 -0.0664 -0.0627 -0.0678  1.0000    -0.0678\n",
      "Adj Close  0.9981  0.9988  0.9962  1.0000 -0.0678     1.0000\n"
     ]
    },
    {
     "data": {
      "image/png": "[encoded data removed]",
      "text/plain": [
       "<Figure size 432x288 with 1 Axes>"
      ]
     },
     "metadata": {
      "needs_background": "light"
     },
     "output_type": "display_data"
    }
   ],
   "source": [
    "## KOSPI 지수 호출\n",
    "pd.set_option('precision', 4)\n",
    " \n",
    "start = datetime.datetime(2017, 1, 2)\n",
    "end = datetime.datetime(2020, 2, 6)\n",
    "df_null = wb.DataReader(\"^KS11\",\"yahoo\",start,end)\n",
    "df = df_null.dropna()\n",
    " \n",
    "kospi_chart = df.Close.plot(style='b')\n",
    "kospi_chart.set_title(\"KOSPI\")\n",
    "kospi_chart.set_ylabel(\"Index\")\n",
    "kospi_chart.set_xlim(str(start), str(end))\n",
    " \n",
    "print(df)\n",
    " \n",
    "print(\"Close Median\", df['Close'].median())\n",
    "print(df['Close'].describe())\n",
    "print(df.corr())"
   ]
  },
  {
   "cell_type": "code",
   "execution_count": null,
   "metadata": {},
   "outputs": [],
   "source": []
  }
 ],
 "metadata": {
  "kernelspec": {
   "display_name": "Python 3",
   "language": "python",
   "name": "python3"
  },
  "language_info": {
   "codemirror_mode": {
    "name": "ipython",
    "version": 3
   },
   "file_extension": ".py",
   "mimetype": "text/x-python",
   "name": "python",
   "nbconvert_exporter": "python",
   "pygments_lexer": "ipython3",
   "version": "3.7.3"
  }
 },
 "nbformat": 4,
 "nbformat_minor": 2
}
